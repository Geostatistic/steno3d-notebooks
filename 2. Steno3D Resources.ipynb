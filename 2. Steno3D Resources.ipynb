{
 "cells": [
  {
   "cell_type": "markdown",
   "metadata": {},
   "source": [
    "<img src=\"images/steno3d.png\" width=\"200\"></img>\n",
    "\n",
    "<br>\n",
    "\n",
    "# Steno3D Resources\n",
    "\n",
    "In this notebook, we will explore the different types of data and resources supported by <a href=\"https://steno3d.com\">Steno3D</a>. An overview is also available in the <a href=\"https://steno3d.readthedocs.io/en/latest/content/what_is_steno3d.html\">online documentation</a>. Specific topics include:\n",
    "\n",
    "- <a href=\"#Projects\">Projects</a>\n",
    "- <a href=\"#Resource-Components\">Resource Components</a>\n",
    "- Resource Creation:\n",
    "    - <a href=\"#Point-Resources\">Points</a>\n",
    "    - <a href=\"#Line-Resources\">Lines</a>\n",
    "    - <a href=\"#Surface-Resources\">Surfaces</a>\n",
    "    - <a href=\"#Volume-Resources\">Volumes</a>"
   ]
  },
  {
   "cell_type": "markdown",
   "metadata": {},
   "source": [
    "___\n",
    "**Navigation**\n",
    "- <a href=\"index.ipynb\">Notebook home</a>\n",
    "- <a href=\"https://steno3d.com\">Steno3D website</a>\n",
    "- <a href=\"https://steno3d.com/docs\">Steno3D documentation</a>\n",
    "- <a href=\"https://github.com/3ptscience/steno3dpy-notebooks/issues/new\">Report an issue</a>\n",
    "___"
   ]
  },
  {
   "cell_type": "code",
   "execution_count": null,
   "metadata": {
    "collapsed": true
   },
   "outputs": [],
   "source": [
    "import steno3d"
   ]
  },
  {
   "cell_type": "markdown",
   "metadata": {},
   "source": [
    "## Login to Steno3D\n",
    "\n",
    "The first thing you need to do is login to Steno3D. You can <a href=\"https://steno3d.com/signup\">sign up for an account</a> to get your own developer API key if you do not have one already. Running the cell below will provide you with instructions for how to obtain and enter your key."
   ]
  },
  {
   "cell_type": "code",
   "execution_count": null,
   "metadata": {
    "collapsed": false
   },
   "outputs": [],
   "source": [
    "steno3d.login()"
   ]
  },
  {
   "cell_type": "markdown",
   "metadata": {},
   "source": [
    "## Projects\n",
    "\n",
    "The first step when working in Steno3D is creating a `Project`. Projects contain related resources; they can be viewed and shared on steno3d.com. The properties of projects are:\n",
    "- `title`: Title of the project\n",
    "- `description`: Description of the project\n",
    "- `public`: If `True`, the project is viewable by anyone online. If `False`, the project is private and only viewable by people you choose to share it with. Free and Academic accounts have limits on the number of private projects allowed; if you would like more, upgrade your account at steno3d.com.\n",
    "- `resources`: List of resources the project contains.\n",
    "\n",
    "You can <a href=\"https://steno3d.com/explore\">explore public projects on steno3d.com</a>. Additional <a href=\"https://steno3d.readthedocs.io/en/latest/content/api/projects.html\">API documentation</a> is available online."
   ]
  },
  {
   "cell_type": "code",
   "execution_count": null,
   "metadata": {
    "collapsed": true
   },
   "outputs": [],
   "source": [
    "my_proj = steno3d.Project(\n",
    "    title='Resource Notebook Project',\n",
    "    description='This project is from the Steno3D Resource notebook',\n",
    "    public=True\n",
    ")"
   ]
  },
  {
   "cell_type": "markdown",
   "metadata": {},
   "source": [
    "## Resource Components\n",
    "\n",
    "Before building resources in Steno3D, here is a brief overview of the different components you will need: `mesh`, `data`, and `textures`.\n",
    "\n",
    "<img src=\"images/Steno3DAPI.png\" width=\"750\"></img>\n",
    "\n",
    "### Mesh\n",
    "The `mesh` defines the geometry of the resource. It contains vertices, faces, grid-cell spacing, etc. Each type of resource has one or more meshes that may be used, corresponding to the dimensionality of the resource. All resources require a mesh.\n",
    "### Data\n",
    "The `data` is simply an array of values that correspond to mesh locations. When binding data to a resource, the mesh location must be specified in conjunction with the data array.\n",
    "### Textures\n",
    "The `textures` are images that exist in space and are mapped to locations on the mesh. They do not correspond to certain mesh locations."
   ]
  },
  {
   "cell_type": "markdown",
   "metadata": {},
   "source": [
    "___\n",
    "**Navigation**\n",
    "- <a href=\"#Steno3D-Resources\">Top</a>\n",
    "- <a href=\"3.%20Example%20Wolf%20Pass%20Project.ipynb\">Next notebook: 3. Example Wolf Pass Project</a>\n",
    "- <a href=\"index.ipynb\">Notebook home</a>\n",
    "- <a href=\"https://steno3d.com\">Steno3D website</a>\n",
    "- <a href=\"https://steno3d.com/docs\">Steno3D documentation</a>\n",
    "- <a href=\"https://github.com/3ptscience/steno3dpy-notebooks/issues/new\">Report an issue</a>\n",
    "___"
   ]
  },
  {
   "cell_type": "markdown",
   "metadata": {},
   "source": [
    "## Point Resources\n",
    "\n",
    "Points are 0-dimensional resources, for example, GPS waypoints, earthquake foci, or drone locations. The properties of `Point` are:\n",
    "- `title`\n",
    "- `description`\n",
    "- `mesh` (required): Points use `Mesh0D`, a mesh that only contains `vertices`\n",
    "- `data`: A list of bound `DataArray`s\n",
    "- `textures`: A list of `Texture2DImage`s\n",
    "- `opts`: A dictionary of options\n",
    "- `project` (required): The project(s) that contain the resource\n",
    "\n",
    "Additional <a href=\"https://steno3d.readthedocs.io/en/latest/content/api/resources/point.html\">API documentation</a> is available online."
   ]
  },
  {
   "cell_type": "markdown",
   "metadata": {},
   "source": [
    "Let's start by initializing a point. All resources (including points) must be initialized with a project; this gives the resource a context to start with. Resources can be added to and removed from projects retroactively as well, so the initial project isn't set in stone."
   ]
  },
  {
   "cell_type": "code",
   "execution_count": null,
   "metadata": {
    "collapsed": true
   },
   "outputs": [],
   "source": [
    "my_point = steno3d.Point(\n",
    "    project=my_proj,\n",
    "    title='Basic Point Resource'\n",
    ")"
   ]
  },
  {
   "cell_type": "markdown",
   "metadata": {},
   "source": [
    "Now that we have a point resource, let's pause to create a function that generates vertices. Note that the output of this function is an n x 3 array."
   ]
  },
  {
   "cell_type": "code",
   "execution_count": null,
   "metadata": {
    "collapsed": true
   },
   "outputs": [],
   "source": [
    "import numpy as np\n",
    "def cluster_coords(x, y, z, rad, npts):\n",
    "    \"\"\"This function creates clusters of npts\n",
    "    number of points centered around x, y, z\n",
    "    within radius rad\n",
    "    \"\"\"\n",
    "    return np.r_[\n",
    "        [np.random.normal(x, rad/4., npts),\n",
    "         np.random.normal(y, rad/4., npts),\n",
    "         np.random.normal(z, rad/4., npts)]\n",
    "    ].T"
   ]
  },
  {
   "cell_type": "markdown",
   "metadata": {},
   "source": [
    "Let's also define a few points and radii to use in the following examples."
   ]
  },
  {
   "cell_type": "code",
   "execution_count": null,
   "metadata": {
    "collapsed": true
   },
   "outputs": [],
   "source": [
    "x = [0., -250., 450.]\n",
    "y = [1000., 0., 150.]\n",
    "z = [0., 0., 0.]\n",
    "r = [500., 400., 300.]"
   ]
  },
  {
   "cell_type": "markdown",
   "metadata": {},
   "source": [
    "#### Point Mesh\n",
    "\n",
    "Now we can use the cluster_coords function to generate vertices for a mesh. `Mesh0D` have properties:\n",
    "- `vertices` (required): 3 x n array of spatial coordinates\n",
    "- `title`\n",
    "- `description`"
   ]
  },
  {
   "cell_type": "code",
   "execution_count": null,
   "metadata": {
    "collapsed": true
   },
   "outputs": [],
   "source": [
    "my_verts=cluster_coords(x=x[0], y=y[0], z=z[0], rad=r[0], npts=100)\n",
    "my_mesh = steno3d.Mesh0D(\n",
    "    vertices=my_verts\n",
    ")"
   ]
  },
  {
   "cell_type": "markdown",
   "metadata": {},
   "source": [
    "This mesh must be added to the point resource:"
   ]
  },
  {
   "cell_type": "code",
   "execution_count": null,
   "metadata": {
    "collapsed": false
   },
   "outputs": [],
   "source": [
    "my_point.mesh = my_mesh"
   ]
  },
  {
   "cell_type": "markdown",
   "metadata": {},
   "source": [
    "Let's pause again to define a distance function to help us generate some data."
   ]
  },
  {
   "cell_type": "code",
   "execution_count": null,
   "metadata": {
    "collapsed": true
   },
   "outputs": [],
   "source": [
    "def dist_fcn(verts, origin):\n",
    "    \"\"\"This function calculates distance between\n",
    "    each point in verts and origin\n",
    "    \"\"\"\n",
    "    pt_diff = verts-np.r_[verts.shape[0]*[origin]]\n",
    "    pt_diff_sq = pt_diff * pt_diff\n",
    "    return np.sqrt(np.sum(pt_diff_sq, axis=1))"
   ]
  },
  {
   "cell_type": "markdown",
   "metadata": {},
   "source": [
    "#### Binding Point Data\n",
    "\n",
    "We now need to bind data to the point resource. In Steno3D, binding data to a resource is the most confusing step, so follow along carefully. First we need a `DataArray` that contains:\n",
    "- `array` (required): 1D-array of data\n",
    "- `title`\n",
    "- `description`\n",
    "\n",
    "Our first data set will be distance to the origin:"
   ]
  },
  {
   "cell_type": "code",
   "execution_count": null,
   "metadata": {
    "collapsed": false
   },
   "outputs": [],
   "source": [
    "origin_dist=dist_fcn(my_verts, [0, 0, 0])\n",
    "my_data = steno3d.DataArray(\n",
    "    title='Distance from Origin',\n",
    "    array=origin_dist\n",
    ")"
   ]
  },
  {
   "cell_type": "markdown",
   "metadata": {},
   "source": [
    "We must bind this data to specific mesh locations. This is done with a dictionary that has two entries:\n",
    "- `location` (required): For point resources, the only `location` available is 'N' for nodes. Other types of resources allow `location` to be 'N' or 'CC', nodes or cell centers\n",
    "- `data`(required): a DataArray"
   ]
  },
  {
   "cell_type": "code",
   "execution_count": null,
   "metadata": {
    "collapsed": true
   },
   "outputs": [],
   "source": [
    "my_point.data = dict(\n",
    "    data=my_data,\n",
    "    location='N'\n",
    ")"
   ]
  },
  {
   "cell_type": "markdown",
   "metadata": {},
   "source": [
    "Resources may have any number of associated data arrays. For multiple data sets, you can use a list of these `location`/`data` dictionaries. Here, we will generate a second data set and bind both data sets to the point resource."
   ]
  },
  {
   "cell_type": "code",
   "execution_count": null,
   "metadata": {
    "collapsed": false
   },
   "outputs": [],
   "source": [
    "cluster_dist = dist_fcn(my_verts, [x[0], y[0], z[0]])\n",
    "my_other_data = steno3d.DataArray(\n",
    "    title='Distance from Cluster Center',\n",
    "    array=cluster_dist\n",
    ")\n",
    "my_point.data = [\n",
    "    dict(\n",
    "        location='N',\n",
    "        data=my_data\n",
    "    ),\n",
    "    dict(\n",
    "        location='N',\n",
    "        data=my_other_data\n",
    "    )\n",
    "]"
   ]
  },
  {
   "cell_type": "markdown",
   "metadata": {},
   "source": [
    "#### Point Textures\n",
    "\n",
    "Finally, we can add textures to point resources. `Texture2DImage`s map an image in space. They contain:\n",
    "- `image` (required): a png image to map\n",
    "- `O` (required): the origin vector - this sets the lower-left corner of the image in space\n",
    "- `U` and `V` (required): the axes vectors - these determine the length and the direction of the sides of the image relative to `O`\n",
    "\n",
    "Here, we will load up an example image file and map it to the center of our point cluser."
   ]
  },
  {
   "cell_type": "code",
   "execution_count": null,
   "metadata": {
    "collapsed": true
   },
   "outputs": [],
   "source": [
    "from steno3d.examples import Images\n",
    "wood_img = Images.fetch_data(filename='woodplanks.png', verbose=False)\n",
    "my_tex = steno3d.Texture2DImage(\n",
    "    image=wood_img,\n",
    "    O=[-250., 750., 0],\n",
    "    U=[500., 0., 0.],\n",
    "    V=[0., 500., 0.]\n",
    ")"
   ]
  },
  {
   "cell_type": "markdown",
   "metadata": {},
   "source": [
    "We can now add this texture to our point. If we have multiple textures for a resource, we can simply add them as a list."
   ]
  },
  {
   "cell_type": "code",
   "execution_count": null,
   "metadata": {
    "collapsed": false
   },
   "outputs": [],
   "source": [
    "my_point.textures = my_tex"
   ]
  },
  {
   "cell_type": "markdown",
   "metadata": {},
   "source": [
    "#### Point Options\n",
    "\n",
    "The last thing to note are the options we can set. For now, this includes `color` and `opacity`. These are set using a dictionary:"
   ]
  },
  {
   "cell_type": "code",
   "execution_count": null,
   "metadata": {
    "collapsed": true
   },
   "outputs": [],
   "source": [
    "my_point.opts = dict(\n",
    "    color='black',\n",
    "    opacity=1\n",
    ")"
   ]
  },
  {
   "cell_type": "markdown",
   "metadata": {},
   "source": [
    "#### Point Validation, Uploading, and Plotting\n",
    "\n",
    "That concludes the creation of our first Steno3D resource. To ensure that there are not any problems, you can call `validate()`. This checks that all aspects of the resource are built correctly."
   ]
  },
  {
   "cell_type": "code",
   "execution_count": null,
   "metadata": {
    "collapsed": false
   },
   "outputs": [],
   "source": [
    "my_point.validate()"
   ]
  },
  {
   "cell_type": "markdown",
   "metadata": {},
   "source": [
    "We can also `upload` resources or projects to <a href=\"https://steno3d.com\">steno3d.com</a> at any time as long as they are valid. Calling `upload()` on a resource actually uploads its containing projects. By default, uploading turns on syncing; this automatically pushes any future changes to <a href=\"https://steno3d.com\">steno3d.com</a>. We are going to upload our point resource but keep syncing off for now."
   ]
  },
  {
   "cell_type": "code",
   "execution_count": null,
   "metadata": {
    "collapsed": false
   },
   "outputs": [],
   "source": [
    "my_point.upload(sync=False)"
   ]
  },
  {
   "cell_type": "markdown",
   "metadata": {},
   "source": [
    "Once resources are uploaded, you can `plot` them. You may plot either the resource or the containing project. For now these look similar, but the project will contain all resources once they are added."
   ]
  },
  {
   "cell_type": "code",
   "execution_count": null,
   "metadata": {
    "collapsed": false
   },
   "outputs": [],
   "source": [
    "my_point.plot()"
   ]
  },
  {
   "cell_type": "code",
   "execution_count": null,
   "metadata": {
    "collapsed": false
   },
   "outputs": [],
   "source": [
    "my_proj.plot()"
   ]
  },
  {
   "cell_type": "markdown",
   "metadata": {},
   "source": [
    "You can also get the URL of either of these once they are uploaded. This makes them easy to share:"
   ]
  },
  {
   "cell_type": "code",
   "execution_count": null,
   "metadata": {
    "collapsed": false
   },
   "outputs": [],
   "source": [
    "my_point.url\n",
    "my_proj.url"
   ]
  },
  {
   "cell_type": "markdown",
   "metadata": {},
   "source": [
    "Let's make two more point resources in our project; all the above steps will be condensed down."
   ]
  },
  {
   "cell_type": "code",
   "execution_count": null,
   "metadata": {
    "collapsed": false
   },
   "outputs": [],
   "source": [
    "my_mesh_b = steno3d.Mesh0D(\n",
    "    vertices=cluster_coords(x=x[1], y=y[1], z=z[1], rad=r[1], npts=75)\n",
    ")\n",
    "my_data = steno3d.DataArray(\n",
    "    title='Distance from Origin',\n",
    "    array=dist_fcn(my_mesh_b.vertices, [0., 0., 0.])\n",
    ")\n",
    "my_other_data = steno3d.DataArray(\n",
    "    title='Distance from Cluster Center',\n",
    "    array=dist_fcn(my_mesh_b.vertices, [x[1], y[1], z[1]])\n",
    ")\n",
    "my_tex = steno3d.Texture2DImage(\n",
    "    image=Images.fetch_data(filename='metal.png', verbose=False),\n",
    "    O=[-350., 0., -100.],\n",
    "    U=[200., 0., 0.],\n",
    "    V=[0., 0., 200.]\n",
    ")\n",
    "my_opts = dict(\n",
    "    color='#46B742'\n",
    ")\n",
    "another_point = steno3d.Point(\n",
    "    project=my_proj,\n",
    "    title='Green Points',\n",
    "    mesh=my_mesh_b,\n",
    "    data=[dict(location='N', data=my_data),\n",
    "          dict(location='N', data=my_other_data)],\n",
    "    textures=[my_tex],\n",
    "    opts=my_opts\n",
    ")"
   ]
  },
  {
   "cell_type": "code",
   "execution_count": null,
   "metadata": {
    "collapsed": false
   },
   "outputs": [],
   "source": [
    "my_verts=cluster_coords(x=x[2], y=y[2], z=z[2], rad=r[2], npts=50)\n",
    "and_another_point = steno3d.Point(\n",
    "    project=my_proj,\n",
    "    title='More Points',\n",
    "    mesh=steno3d.Mesh0D(\n",
    "        vertices=my_verts\n",
    "    ),\n",
    "    data=[\n",
    "        dict(\n",
    "            location='N',\n",
    "            data=steno3d.DataArray(\n",
    "                title='Distance from Origin',\n",
    "                array=dist_fcn(my_verts, [0., 0., 0.])\n",
    "            )\n",
    "        ),\n",
    "        dict(\n",
    "            location='N',\n",
    "            data=steno3d.DataArray(\n",
    "                title='Distance from Cluster Center',\n",
    "                array=dist_fcn(my_verts, [x[2], y[2], z[2]])\n",
    "            )\n",
    "        )\n",
    "    ],\n",
    "    opts=dict(\n",
    "        color=[123, 124, 125]\n",
    "    )\n",
    ")"
   ]
  },
  {
   "cell_type": "markdown",
   "metadata": {},
   "source": [
    "To view these added resources, `upload` and `plot`."
   ]
  },
  {
   "cell_type": "code",
   "execution_count": null,
   "metadata": {
    "collapsed": true
   },
   "outputs": [],
   "source": [
    "my_proj.upload(sync=False)\n",
    "my_proj.plot()"
   ]
  },
  {
   "cell_type": "markdown",
   "metadata": {},
   "source": [
    "___\n",
    "**Navigation**\n",
    "- <a href=\"#Steno3D-Resources\">Top of page</a>\n",
    "- <a href=\"3.%20Example%20Wolf%20Pass%20Project.ipynb\">Next notebook: 3. Example Wolf Pass Project</a>\n",
    "- <a href=\"index.ipynb\">Notebook home</a>\n",
    "- <a href=\"https://steno3d.com\">Steno3D website</a>\n",
    "- <a href=\"https://steno3d.com/docs\">Steno3D documentation</a>\n",
    "- <a href=\"https://github.com/3ptscience/steno3dpy-notebooks/issues/new\">Report an issue</a>\n",
    "___"
   ]
  },
  {
   "cell_type": "markdown",
   "metadata": {},
   "source": [
    "## Line Resources\n",
    "\n",
    "Lines are 1-dimensional resources, for example, boreholes, tectonic plate motion directions, or drone flight paths. The properties of `Line` are:\n",
    "- `title`\n",
    "- `description`\n",
    "- `mesh` (required): Points use `Mesh1D`, a mesh that contains `vertices` and `segments`\n",
    "- `data`: A list of bound `DataArray`s\n",
    "- `opts`: A dictionary of options\n",
    "- `project`(required): The project(s) that contain the resource\n",
    "\n",
    "Additional <a href=\"https://steno3d.readthedocs.io/en/latest/content/api/resources/line.html\">API documentation</a> is available online."
   ]
  },
  {
   "cell_type": "markdown",
   "metadata": {},
   "source": [
    "Just like the <a href=\"#Point-Resources\">points</a>, we need to provide a project on initialization of lines:"
   ]
  },
  {
   "cell_type": "code",
   "execution_count": null,
   "metadata": {
    "collapsed": true
   },
   "outputs": [],
   "source": [
    "my_line = steno3d.Line(\n",
    "    project=my_proj,\n",
    "    title='Basic Line Resource'\n",
    ")"
   ]
  },
  {
   "cell_type": "markdown",
   "metadata": {},
   "source": [
    "#### Line Mesh\n",
    "\n",
    "The meshes used with lines are `Mesh1D`. These meshes have properties:\n",
    "- `vertices` (required): 3 x n array of spatial coordinates\n",
    "- `segments` (required): 2 x m array of vertex indices connecting each segment\n",
    "- `title`\n",
    "- `description`\n",
    "\n",
    "First we will construct the geometry, then we will build the mesh."
   ]
  },
  {
   "cell_type": "code",
   "execution_count": null,
   "metadata": {
    "collapsed": true
   },
   "outputs": [],
   "source": [
    "import numpy as np\n",
    "my_verts = np.c_[\n",
    "    np.r_[x[0]*np.ones(10), x[1]*np.ones(10), x[2]*np.ones(10)],\n",
    "    np.r_[y[0]*np.ones(10), y[1]*np.ones(10), y[2]*np.ones(10)],\n",
    "    np.r_[np.linspace(z[0]-r[0], -700, 10), np.linspace(z[1]-r[1], -700, 10), np.linspace(z[2]-r[2], -700, 10)]\n",
    "]\n",
    "my_segs = np.c_[\n",
    "    np.r_[range(0, 9), range(10, 19), range(20, 29)],\n",
    "    np.r_[range(1, 10), range(11, 20), range(21, 30)]\n",
    "]"
   ]
  },
  {
   "cell_type": "code",
   "execution_count": null,
   "metadata": {
    "collapsed": true
   },
   "outputs": [],
   "source": [
    "my_mesh = steno3d.Mesh1D(\n",
    "    vertices=my_verts,\n",
    "    segments=my_segs\n",
    ")\n",
    "my_line.mesh = my_mesh"
   ]
  },
  {
   "cell_type": "markdown",
   "metadata": {},
   "source": [
    "#### Binding Line Data\n",
    "\n",
    "We now need to bind data to the line resource. For a bit more detail, see the <a href=\"#Binding-Point-Data\">point data</a> section. In a nutshell, we need a `DataArray` that contains:\n",
    "- `array` (required): 1D-array of data\n",
    "- `title`\n",
    "- `description`\n",
    "\n",
    "Then we need to bind this to our line with a dictionary containing:\n",
    "- `location` (required): For lines, this is 'N' (nodes or vertices) or 'CC' (cell centers or segments)\n",
    "- `data` (required): the DataArray\n",
    "\n",
    "More than one data set can be bound to a line by using a list of these dictionaries.\n",
    "\n",
    "For our example line, we will just create some data using dist_fcn (defined just above the <a href=\"#Binding-Point-Data\">point data</a> section):"
   ]
  },
  {
   "cell_type": "code",
   "execution_count": null,
   "metadata": {
    "collapsed": true
   },
   "outputs": [],
   "source": [
    "my_data_0 = steno3d.DataArray(\n",
    "    array=dist_fcn(my_verts, [x[0], y[0], x[0]]),\n",
    "    title='First Distance'\n",
    ")\n",
    "my_data_1 = steno3d.DataArray(\n",
    "    array=dist_fcn(my_verts, [x[1], y[1], x[1]]),\n",
    "    title='Second Distance'\n",
    ")\n",
    "my_data_2 = steno3d.DataArray(\n",
    "    array=dist_fcn(my_verts, [x[2], y[2], x[2]]),\n",
    "    title='Third Distance'\n",
    ")"
   ]
  },
  {
   "cell_type": "markdown",
   "metadata": {},
   "source": [
    "All of these are defined on the vertices, so we will bind them to 'N' location:"
   ]
  },
  {
   "cell_type": "code",
   "execution_count": null,
   "metadata": {
    "collapsed": true
   },
   "outputs": [],
   "source": [
    "my_line.data = [\n",
    "    dict(\n",
    "        location='N',\n",
    "        data=my_data_0\n",
    "    ),\n",
    "    dict(\n",
    "        location='N',\n",
    "        data=my_data_1\n",
    "    ),\n",
    "    dict(\n",
    "        location='N',\n",
    "        data=my_data_2\n",
    "    )\n",
    "]"
   ]
  },
  {
   "cell_type": "markdown",
   "metadata": {},
   "source": [
    "#### Line Options\n",
    "\n",
    "Like the <a href=\"#Point-Options\">point options</a>, you can assign `color` and `opacity` as opts using a dictionary."
   ]
  },
  {
   "cell_type": "code",
   "execution_count": null,
   "metadata": {
    "collapsed": true
   },
   "outputs": [],
   "source": [
    "my_line.opts = dict(\n",
    "    color='red',\n",
    "    opacity=0.25\n",
    ")"
   ]
  },
  {
   "cell_type": "markdown",
   "metadata": {},
   "source": [
    "#### Line Validation, Uploading, and Plotting\n",
    "\n",
    "Lines, like <a href=\"#Point-Validation,-Uploading,-and-Plotting\">points</a>, have validation, uploading, and plotting:"
   ]
  },
  {
   "cell_type": "code",
   "execution_count": null,
   "metadata": {
    "collapsed": false
   },
   "outputs": [],
   "source": [
    "my_line.validate() # This is also called on upload.\n",
    "my_line.upload(sync=False) # Uploading the line uploads the containing project.\n",
    "my_line.plot() # This just plots the line."
   ]
  },
  {
   "cell_type": "markdown",
   "metadata": {},
   "source": [
    "___\n",
    "**Navigation**\n",
    "- <a href=\"#Steno3D-Resources\">Top of page</a>\n",
    "- <a href=\"3.%20Example%20Wolf%20Pass%20Project.ipynb\">Next notebook: 3. Example Wolf Pass Project</a>\n",
    "- <a href=\"index.ipynb\">Notebook home</a>\n",
    "- <a href=\"https://steno3d.com\">Steno3D website</a>\n",
    "- <a href=\"https://steno3d.com/docs\">Steno3D documentation</a>\n",
    "- <a href=\"https://github.com/3ptscience/steno3dpy-notebooks/issues/new\">Report an issue</a>\n",
    "___"
   ]
  },
  {
   "cell_type": "markdown",
   "metadata": {},
   "source": [
    "## Surface Resources\n",
    "\n",
    "Surfaces are 2-dimensional resources, for example, topography or geologic unit boundaries. The properties of `Surface` are:\n",
    "- `title`\n",
    "- `description`\n",
    "- `mesh` (required): Surfaces may use `Mesh2D` or `Mesh2DGrid`\n",
    "- `data`: A list of bound `DataArray`s\n",
    "- `textures`: A list of `Texture2DImage`s\n",
    "- `opts`: A dictionary of options\n",
    "- `project` (required): The project(s) that contain the resource\n",
    "\n",
    "Additional <a href=\"https://steno3d.readthedocs.io/en/latest/content/api/resources/surface.html\">API documentation</a> is available online."
   ]
  },
  {
   "cell_type": "markdown",
   "metadata": {},
   "source": [
    "Initialize just like the <a href=\"#Point-Resources\">points</a>:"
   ]
  },
  {
   "cell_type": "code",
   "execution_count": null,
   "metadata": {
    "collapsed": true
   },
   "outputs": [],
   "source": [
    "my_surface = steno3d.Surface(\n",
    "    project=my_proj,\n",
    "    title='Basic Surface Resource'\n",
    ")"
   ]
  },
  {
   "cell_type": "markdown",
   "metadata": {},
   "source": [
    "#### Surface Mesh2D\n",
    "\n",
    "There are two types of surface meshes available. The first is `Mesh2D`. This is very similar to the <a href=\"#Line-Mesh\">line mesh</a> except it has triangles instead of segments and adds options:\n",
    "- `vertices` (required): 3 x n array of spatial coordinates\n",
    "- `triangles` (required): 3 x m array of vertex indices connecting each triangular face\n",
    "- `title`\n",
    "- `description`\n",
    "- `opts`: The only available option is `wireframe`, set to `True` or `False` with a dictionary \n",
    "\n",
    "The other type of surface mesh is <a href=\"#Surface-Mesh2DGrid\">Mesh2DGrid</a>, described below."
   ]
  },
  {
   "cell_type": "markdown",
   "metadata": {},
   "source": [
    "Let's pause and create a function to build the `Mesh2D` components."
   ]
  },
  {
   "cell_type": "code",
   "execution_count": null,
   "metadata": {
    "collapsed": false
   },
   "outputs": [],
   "source": [
    "\"\"\"These functions calculate a convex hull of\n",
    "triangles given a point on a sphere. The same\n",
    "result could probably be accomplished much\n",
    "easier using scipy.spatial.Delaunay and\n",
    "convex_hull, but this is more fun... right?\n",
    "\"\"\"\n",
    "\n",
    "from itertools import permutations\n",
    "import numpy as np\n",
    "from properties.vmath.vector import Vector\n",
    "\n",
    "def dist_fcn(verts, origin):\n",
    "    \"\"\"This function calculates distance between\n",
    "    each point in verts and origin\n",
    "    \"\"\"\n",
    "    pt_diff = verts-np.r_[verts.shape[0]*[origin]]\n",
    "    pt_diff_sq = pt_diff * pt_diff\n",
    "    return np.sqrt(np.sum(pt_diff_sq, axis=1))\n",
    "\n",
    "def set_contains(item, containing_set):\n",
    "    \"\"\"set_contains checks if any permutation\n",
    "    of an item is in the set\n",
    "    \"\"\"\n",
    "    for perm in permutations(item):\n",
    "        if perm in containing_set:\n",
    "            return True\n",
    "    return False\n",
    "    \n",
    "def bounding_plane(indices, points):\n",
    "    \"\"\"bounding_plane returns True if all the points\n",
    "    fall on one side of the plane defined by the\n",
    "    index points, otherwise False\n",
    "    \"\"\"\n",
    "    v1 = Vector(points[indices[1]][:]) - Vector(points[indices[0]][:])\n",
    "    v2 = Vector(points[indices[2]][:]) - Vector(points[indices[0]][:])\n",
    "    vplane = v1.cross(v2).flatten()\n",
    "    plane = lambda X, Y: (-vplane[0]/vplane[2] * (X-points[indices[0]][0])\n",
    "                          -vplane[1]/vplane[2] * (Y-points[indices[0]][1])\n",
    "                          +points[indices[0]][2])\n",
    "    bounding = True\n",
    "    first_above = None\n",
    "    i = 0\n",
    "    while bounding and i < points.shape[0]:\n",
    "        if i in indices:\n",
    "            i = i+1\n",
    "            continue\n",
    "        p = points[i][:].flatten()\n",
    "        if first_above is None:\n",
    "            first_above = p[2] > plane(p[0], p[1])\n",
    "            i = i+1\n",
    "            continue\n",
    "        bounding = first_above is (p[2] > plane(p[0], p[1]))\n",
    "        i = i+1\n",
    "    return bounding\n",
    "\n",
    "def sphere_triangles(vertices):\n",
    "    \"\"\"sphere_triangles computes the triangles\n",
    "    connecting vertices on a sphere\n",
    "    \"\"\"\n",
    "    used_edges = set()\n",
    "    active_edges = set()\n",
    "    triangles = set()\n",
    "    # Find the first triangle\n",
    "    edge = [0, np.argmin(dist_fcn(vertices[1:][:], vertices[0][:]))+1]\n",
    "    for i in range(vertices.shape[0]):\n",
    "        if i in edge:\n",
    "            continue\n",
    "        if bounding_plane([edge[0], edge[1], i], vertices):\n",
    "            triangles.add((edge[0], edge[1], i))\n",
    "            active_edges.add((edge[0], edge[1]))\n",
    "            active_edges.add((edge[1], i))\n",
    "            active_edges.add((i, edge[0]))\n",
    "            break\n",
    "    while len(active_edges) > 0:\n",
    "        edge = active_edges.pop()\n",
    "        for i in range(vertices.shape[0]):\n",
    "            if i in edge:\n",
    "                continue\n",
    "            tri = [edge[0], edge[1], i]\n",
    "            if set_contains(tri, triangles):\n",
    "                continue\n",
    "            if bounding_plane(tri, vertices):\n",
    "                triangles.add((edge[0], edge[1], i))\n",
    "                used_edges.add((edge))\n",
    "                if (set_contains((edge[0], i), active_edges) or\n",
    "                    set_contains((edge[0], i), used_edges)):\n",
    "                        used_edges.add((edge[0], i))\n",
    "                else:\n",
    "                        active_edges.add((edge[0], i))\n",
    "                if (set_contains((edge[1], i), active_edges) or\n",
    "                    set_contains((edge[1], i), used_edges)):\n",
    "                        used_edges.add((edge[1], i))\n",
    "                else:\n",
    "                        active_edges.add((edge[1], i))\n",
    "                break\n",
    "    return [list(tri) for tri in triangles]"
   ]
  },
  {
   "cell_type": "code",
   "execution_count": null,
   "metadata": {
    "collapsed": false
   },
   "outputs": [],
   "source": [
    "x = [0., -250., 450.]\n",
    "y = [1000., 0., 150.]\n",
    "z = [0., 0., 0.]\n",
    "r = [500., 400., 300.]\n",
    "nverts = 50\n",
    "my_verts = Vector(np.c_[\n",
    "    np.random.rand(nverts)-.5,\n",
    "    np.random.rand(nverts)-.5,\n",
    "    np.random.rand(nverts)-.5\n",
    "])\n",
    "my_verts = np.array(my_verts.normalize())*r[0]\n",
    "my_verts = my_verts + np.r_[my_verts.shape[0]*[[x[0], y[0], z[0]]]]\n",
    "my_tris = sphere_triangles(my_verts)"
   ]
  },
  {
   "cell_type": "markdown",
   "metadata": {},
   "source": [
    "Now construct the mesh with these components:"
   ]
  },
  {
   "cell_type": "code",
   "execution_count": null,
   "metadata": {
    "collapsed": true
   },
   "outputs": [],
   "source": [
    "my_mesh = steno3d.Mesh2D(\n",
    "    vertices=my_verts,\n",
    "    triangles=my_tris\n",
    ")"
   ]
  },
  {
   "cell_type": "markdown",
   "metadata": {},
   "source": [
    "We can make the mesh display its wire frame by specifying `wireframe=True` in the options:"
   ]
  },
  {
   "cell_type": "code",
   "execution_count": null,
   "metadata": {
    "collapsed": true
   },
   "outputs": [],
   "source": [
    "my_mesh.opts = dict(\n",
    "    wireframe=True\n",
    ")"
   ]
  },
  {
   "cell_type": "markdown",
   "metadata": {},
   "source": [
    "And add this mesh to the surface:"
   ]
  },
  {
   "cell_type": "code",
   "execution_count": null,
   "metadata": {
    "collapsed": false
   },
   "outputs": [],
   "source": [
    "my_surface.mesh = my_mesh"
   ]
  },
  {
   "cell_type": "markdown",
   "metadata": {},
   "source": [
    "#### Surface Mesh2DGrid\n",
    "\n",
    "The other type of surface mesh is `Mesh2DGrid`. This is defined differently than the meshes so far:\n",
    "- `h1` and `h2` (required): x and y grid spacings\n",
    "- `x0`: origin vector corresponding to the lower-left corner of the grid\n",
    "- `Z`: mesh vertex topography\n",
    "- `title`\n",
    "- `description`\n",
    "- `opts`: The only available option is `wireframe`, set to `True` or `False` with a dictionary\n",
    "\n",
    "We have to create new surface to use this mesh since each surface may only have one mesh."
   ]
  },
  {
   "cell_type": "code",
   "execution_count": null,
   "metadata": {
    "collapsed": true
   },
   "outputs": [],
   "source": [
    "my_grid_surf = steno3d.Surface(\n",
    "    project=my_proj,\n",
    "    title='Basic surface resource grid'\n",
    ")"
   ]
  },
  {
   "cell_type": "code",
   "execution_count": null,
   "metadata": {
    "collapsed": true
   },
   "outputs": [],
   "source": [
    "x_space = np.linspace(-300., 300., num=60)\n",
    "y_space = np.linspace(-750., -440., num=31)\n",
    "\n",
    "h1 = np.diff(x_space)\n",
    "h2 = np.diff(y_space)\n",
    "x0 = [-300., -750., 0.]\n",
    "\n",
    "X, Y = np.meshgrid(x_space, y_space)\n",
    "topo = lambda X, Y: 25.*np.sin(X/30.+Y/100.)\n",
    "Z = topo(X, Y).flatten(order='C')"
   ]
  },
  {
   "cell_type": "code",
   "execution_count": null,
   "metadata": {
    "collapsed": true
   },
   "outputs": [],
   "source": [
    "my_grid_mesh = steno3d.Mesh2DGrid(\n",
    "    h1=h1,\n",
    "    h2=h2,\n",
    "    x0=x0,\n",
    "    Z=Z\n",
    ")\n",
    "\n",
    "my_grid_surf.mesh = my_grid_mesh"
   ]
  },
  {
   "cell_type": "markdown",
   "metadata": {},
   "source": [
    "#### Binding Surface Data\n",
    "\n",
    "We now need to bind data to the surface resource. For a bit more detail, see the <a href=\"#Binding-Point-Data\">point data</a> section. In a nutshell, we need a `DataArray` that contains:\n",
    "- `array` (required): 1D-array of data\n",
    "- `title`\n",
    "- `description`\n",
    "\n",
    "Then we need to bind this to our surface with a dictionary containing:\n",
    "- `location` (required): For surfaces, this is 'N' (nodes or vertices) or 'CC' (cell centers or faces/triangles)\n",
    "- `data` (required): the DataArray\n",
    "\n",
    "More than one data set can be bound to a surface by using a list of these dictionaries.\n",
    "\n",
    "For our example surface, we will just create some random data."
   ]
  },
  {
   "cell_type": "code",
   "execution_count": null,
   "metadata": {
    "collapsed": true
   },
   "outputs": [],
   "source": [
    "my_data = steno3d.DataArray(\n",
    "    title='Random Face Data',\n",
    "    array=np.random.rand(my_grid_mesh.nC)\n",
    ")\n",
    "\n",
    "my_grid_surf.data = dict(\n",
    "    location='CC',\n",
    "    data=my_data\n",
    ")"
   ]
  },
  {
   "cell_type": "markdown",
   "metadata": {},
   "source": [
    "#### Surface Textures\n",
    "\n",
    "We can add textures to surface resources, like <a href=\"Point-Textures\">points</a>. `Texture2DImage`s map an image in space. They contain:\n",
    "- `image` (required): a png image to map\n",
    "- `O` (required): the origin vector - this sets the lower-left corner of the image in space\n",
    "- `U` and `V` (required): the axes vectors - these determine the length and the direction of the sides of the image relative to `O`\n",
    "\n",
    "Here, we will load up an example image file and map it to the center of our surface grid cluser."
   ]
  },
  {
   "cell_type": "code",
   "execution_count": null,
   "metadata": {
    "collapsed": true
   },
   "outputs": [],
   "source": [
    "from steno3d.examples import Images\n",
    "steno3d_img = Images.fetch_data(filename='steno3d_logo_text.png', verbose=False)\n",
    "my_tex = steno3d.Texture2DImage(\n",
    "    image=steno3d_img,\n",
    "    O=[-300., -750., 0],\n",
    "    U=[600., 0., 0.],\n",
    "    V=[0., 310., 0.]\n",
    ")\n",
    "\n",
    "my_grid_surf.textures = my_tex"
   ]
  },
  {
   "cell_type": "markdown",
   "metadata": {},
   "source": [
    "#### Surface Options\n",
    "\n",
    "Like the <a href=\"#Point-Options\">point options</a>, you can assign `color` and `opacity` as opts using a dictionary."
   ]
  },
  {
   "cell_type": "code",
   "execution_count": null,
   "metadata": {
    "collapsed": true
   },
   "outputs": [],
   "source": [
    "my_surface.opts = dict(\n",
    "    color='black',\n",
    "    opacity=0.5\n",
    ")\n",
    "my_grid_surf.opts = dict(\n",
    "    color='white',\n",
    "    opacity=1\n",
    ")"
   ]
  },
  {
   "cell_type": "markdown",
   "metadata": {},
   "source": [
    "#### Surface Validation, Uploading, and Plotting\n",
    "\n",
    "Surfaces, like <a href=\"#Point-Validation,-Uploading,-and-Plotting\">points</a>, have validation, uploading, and plotting. We are not going to call validate, because it is called on upload."
   ]
  },
  {
   "cell_type": "code",
   "execution_count": null,
   "metadata": {
    "collapsed": false
   },
   "outputs": [],
   "source": [
    "my_proj.upload(sync=False)\n",
    "my_proj.plot()"
   ]
  },
  {
   "cell_type": "markdown",
   "metadata": {},
   "source": [
    "Let's make a couple more surfaces and add them to our project:"
   ]
  },
  {
   "cell_type": "code",
   "execution_count": null,
   "metadata": {
    "collapsed": false
   },
   "outputs": [],
   "source": [
    "nverts = 40\n",
    "my_verts = Vector(np.c_[\n",
    "    np.random.rand(nverts)-.5,\n",
    "    np.random.rand(nverts)-.5,\n",
    "    np.random.rand(nverts)-.5\n",
    "])\n",
    "my_verts = np.array(my_verts.normalize())*r[1]\n",
    "my_verts = my_verts + np.r_[my_verts.shape[0]*[[x[1], y[1], z[1]]]]\n",
    "my_tris = sphere_triangles(my_verts)\n",
    "\n",
    "my_surf_2 = steno3d.Surface(\n",
    "    project=my_proj,\n",
    "    mesh=steno3d.Mesh2D(\n",
    "        vertices=my_verts,\n",
    "        triangles=my_tris,\n",
    "        opts=dict(wireframe=True)\n",
    "    ),\n",
    "    opts=dict(\n",
    "        color='#46B742',\n",
    "        opacity=0.5\n",
    "    )\n",
    ")\n",
    "my_surf_2.upload(sync=False)\n",
    "\n",
    "nverts = 30\n",
    "my_verts = Vector(np.c_[\n",
    "    np.random.rand(nverts)-.5,\n",
    "    np.random.rand(nverts)-.5,\n",
    "    np.random.rand(nverts)-.5\n",
    "])\n",
    "my_verts = np.array(my_verts.normalize())*r[2]\n",
    "my_verts = my_verts + np.r_[my_verts.shape[0]*[[x[2], y[2], z[2]]]]\n",
    "my_tris = sphere_triangles(my_verts)\n",
    "\n",
    "my_surf_3 = steno3d.Surface(\n",
    "    project=my_proj,\n",
    "    mesh=steno3d.Mesh2D(\n",
    "        vertices=my_verts,\n",
    "        triangles=my_tris,\n",
    "        opts=dict(wireframe=True)\n",
    "    ),\n",
    "    opts=dict(\n",
    "        color=[123, 124, 125],\n",
    "        opacity=0.5\n",
    "    )\n",
    ")\n",
    "my_surf_3.upload(sync=False)\n",
    "\n",
    "my_proj.plot()"
   ]
  },
  {
   "cell_type": "markdown",
   "metadata": {},
   "source": [
    "___\n",
    "**Navigation**\n",
    "- <a href=\"#Steno3D-Resources\">Top of page</a>\n",
    "- <a href=\"3.%20Example%20Wolf%20Pass%20Project.ipynb\">Next notebook: 3. Example Wolf Pass Project</a>\n",
    "- <a href=\"index.ipynb\">Notebook home</a>\n",
    "- <a href=\"https://steno3d.com\">Steno3D website</a>\n",
    "- <a href=\"https://steno3d.com/docs\">Steno3D documentation</a>\n",
    "- <a href=\"https://github.com/3ptscience/steno3dpy-notebooks/issues/new\">Report an issue</a>\n",
    "___"
   ]
  },
  {
   "cell_type": "markdown",
   "metadata": {},
   "source": [
    "## Volume Resources\n",
    "\n",
    "Volumes are 3-dimensional resources; they are continuous measurements in space like rock type, temperature, and electrical resistivity. The properties of `Volume` are:\n",
    "- `title`\n",
    "- `description`\n",
    "- `mesh` (required): Volumes use `Mesh3DGrid`\n",
    "- `data` (required): A list of bound `DataArray`s\n",
    "- `opts`: A dictionary of options\n",
    "- `project` (required): The project(s) that contain the resource\n",
    "\n",
    "Note that data is required for volumes. Additional <a href=\"https://steno3d.readthedocs.io/en/latest/content/api/resources/volume.html\">API documentation</a> is available online."
   ]
  },
  {
   "cell_type": "code",
   "execution_count": null,
   "metadata": {
    "collapsed": true
   },
   "outputs": [],
   "source": [
    "my_volume = steno3d.Volume(\n",
    "    project=my_proj,\n",
    "    title='Basic Volume Resource'\n",
    ")"
   ]
  },
  {
   "cell_type": "markdown",
   "metadata": {},
   "source": [
    "#### Volume Mesh3DGrid\n",
    "\n",
    "Volume meshes are `Mesh3DGrid`s. These are similar to <a href=\"#Surface-Mesh2DGrid\">Mesh2DGrids</a>:\n",
    "- `h1`, `h2`, and `h3` (required): x, y, and z grid spacings\n",
    "- `x0`: origin vector corresponding to the lower-left corner of the grid\n",
    "- `title`\n",
    "- `description`\n",
    "- `opts`: The only available option is `wireframe`, set to `True` or `False` with a dictionary"
   ]
  },
  {
   "cell_type": "code",
   "execution_count": null,
   "metadata": {
    "collapsed": true
   },
   "outputs": [],
   "source": [
    "x_space = np.linspace(-700., 800., num=50)\n",
    "y_space = np.linspace(-440., 1540., num=75)\n",
    "z_space = np.linspace(-650., 0., num=25)\n",
    "\n",
    "h1 = np.diff(x_space)\n",
    "h2 = np.diff(y_space)\n",
    "h3 = np.diff(z_space)\n",
    "x0 = [-700., -440., -650.]"
   ]
  },
  {
   "cell_type": "code",
   "execution_count": null,
   "metadata": {
    "collapsed": false
   },
   "outputs": [],
   "source": [
    "my_mesh = steno3d.Mesh3DGrid(\n",
    "    h1=h1,\n",
    "    h2=h2,\n",
    "    h3=h3,\n",
    "    x0=x0\n",
    ")\n",
    "\n",
    "my_mesh.opts = dict(\n",
    "    wireframe=False\n",
    ")\n",
    "\n",
    "my_volume.mesh = my_mesh"
   ]
  },
  {
   "cell_type": "markdown",
   "metadata": {},
   "source": [
    "#### Binding Volume Data\n",
    "\n",
    "We now need to bind data to the volume resource. For a bit more detail, see the <a href=\"#Binding-Point-Data\">point data</a> section. In a nutshell, we need a `DataArray` that contains:\n",
    "- `array` (required): 1D-array of data\n",
    "- `title`\n",
    "- `description`\n",
    "\n",
    "Then we need to bind this to our volume with a dictionary containing:\n",
    "- `location` (required): For volumes, this must be 'CC' (cell centers)\n",
    "- `data` (required): the DataArray\n",
    "\n",
    "More than one data set can be bound to a volume by using a list of these dictionaries.\n",
    "\n",
    "Let's generate several sets of distance data and add them to our volume."
   ]
  },
  {
   "cell_type": "code",
   "execution_count": null,
   "metadata": {
    "collapsed": false
   },
   "outputs": [],
   "source": [
    "x_cent = (x_space[:-1] + x_space[1:])/2.\n",
    "y_cent = (y_space[:-1] + y_space[1:])/2.\n",
    "z_cent = (z_space[:-1] + z_space[1:])/2.\n",
    "X, Y, Z = np.meshgrid(y_cent, z_cent, x_cent)\n",
    "X = X.flatten(order='C')\n",
    "Y = Y.flatten(order='C')\n",
    "Z = Z.flatten(order='C')\n",
    "dist0 = dist_fcn(np.r_[[X, Y, Z]].T, [y[0], z[0], x[0]])\n",
    "dist0 = np.array([d if d > r[0] else np.nan for d in dist0]) # nan values are not plotted in Steno3D\n",
    "dist1 = dist_fcn(np.r_[[X, Y, Z]].T, [y[1], z[1], x[1]])\n",
    "dist1 = np.array([d if d > r[1] else np.nan for d in dist1])\n",
    "dist2 = dist_fcn(np.r_[[X, Y, Z]].T, [y[2], z[2], x[2]])\n",
    "dist2 = np.array([d if d > r[2] else np.nan for d in dist2])\n",
    "dist = (dist0 + dist1 + dist2)"
   ]
  },
  {
   "cell_type": "code",
   "execution_count": null,
   "metadata": {
    "collapsed": false
   },
   "outputs": [],
   "source": [
    "my_volume._sync = False"
   ]
  },
  {
   "cell_type": "code",
   "execution_count": null,
   "metadata": {
    "collapsed": false
   },
   "outputs": [],
   "source": [
    "my_volume.data = [\n",
    "    dict(\n",
    "        location='CC',\n",
    "        data=steno3d.DataArray(\n",
    "            array=dist,\n",
    "            title='Distances from all points'\n",
    "        )\n",
    "    ),\n",
    "    dict(\n",
    "        location='CC',\n",
    "        data=steno3d.DataArray(\n",
    "            array=dist0,\n",
    "            title='Distance from one point'\n",
    "        )\n",
    "    ),\n",
    "    dict(\n",
    "        location='CC',\n",
    "        data=steno3d.DataArray(\n",
    "            array=dist1,\n",
    "            title='Distance from another point'\n",
    "        )\n",
    "    ),\n",
    "    dict(\n",
    "        location='CC',\n",
    "        data=steno3d.DataArray(\n",
    "            array=dist2,\n",
    "            title='Distance from a final point'\n",
    "        )\n",
    "    )\n",
    "]"
   ]
  },
  {
   "cell_type": "markdown",
   "metadata": {},
   "source": [
    "#### Volume Options\n",
    "\n",
    "Like the <a href=\"#Point-Options\">point options</a>, you can assign `color` and `opacity` as opts using a dictionary."
   ]
  },
  {
   "cell_type": "code",
   "execution_count": null,
   "metadata": {
    "collapsed": false
   },
   "outputs": [],
   "source": [
    "my_volume.opts = dict(\n",
    "    color = 'black',\n",
    "    opacity = 1\n",
    ")"
   ]
  },
  {
   "cell_type": "markdown",
   "metadata": {},
   "source": [
    "#### Volume Validation, Uploading, and Plotting\n",
    "\n",
    "Volumes are validated on upload and can be plotted the same way as <a href=\"#Point-Validation,-Uploading,-and-Plotting\">points</a>. If we don't specify a value for `sync` in upload, it will turn syncing on. This is great for small changes updating in real time."
   ]
  },
  {
   "cell_type": "code",
   "execution_count": null,
   "metadata": {
    "collapsed": false
   },
   "outputs": [],
   "source": [
    "my_volume.upload()\n",
    "my_proj.plot()"
   ]
  },
  {
   "cell_type": "markdown",
   "metadata": {},
   "source": [
    "Now that we are done constructing a project, explore on the <a href=\"https://steno3d.com\">Steno3D website</a> and share with your colleagues!"
   ]
  },
  {
   "cell_type": "code",
   "execution_count": null,
   "metadata": {
    "collapsed": false
   },
   "outputs": [],
   "source": [
    "my_proj.url"
   ]
  },
  {
   "cell_type": "markdown",
   "metadata": {},
   "source": [
    "## Want to work with *your* data?\n",
    "\n",
    "You can download Steno3D from pip:\n",
    "```\n",
    "pip install steno3d\n",
    "```\n",
    "or install from source\n",
    "```\n",
    "git clone https://github.com/3ptscience/steno3dpy.git\n",
    "python setup.py install \n",
    "```"
   ]
  },
  {
   "cell_type": "markdown",
   "metadata": {},
   "source": [
    "___\n",
    "**Navigation**\n",
    "- <a href=\"#Steno3D-Resources\">Top of page</a>\n",
    "- <a href=\"3.%20Example%20Wolf%20Pass%20Project.ipynb\">Next notebook: 3. Example Wolf Pass Project</a>\n",
    "- <a href=\"index.ipynb\">Notebook home</a>\n",
    "- <a href=\"https://steno3d.com\">Steno3D website</a>\n",
    "- <a href=\"https://steno3d.com/docs\">Steno3D documentation</a>\n",
    "- <a href=\"https://github.com/3ptscience/steno3dpy-notebooks/issues/new\">Report an issue</a>\n",
    "___"
   ]
  }
 ],
 "metadata": {
  "kernelspec": {
   "display_name": "Python 2",
   "language": "python",
   "name": "python2"
  },
  "language_info": {
   "codemirror_mode": {
    "name": "ipython",
    "version": 2
   },
   "file_extension": ".py",
   "mimetype": "text/x-python",
   "name": "python",
   "nbconvert_exporter": "python",
   "pygments_lexer": "ipython2",
   "version": "2.7.11"
  }
 },
 "nbformat": 4,
 "nbformat_minor": 0
}
