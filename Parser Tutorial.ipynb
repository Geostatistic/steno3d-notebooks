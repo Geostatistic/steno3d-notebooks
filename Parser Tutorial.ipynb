{
 "cells": [
  {
   "cell_type": "markdown",
   "metadata": {},
   "source": [
    "<img src=\"images/steno3d.png\" width=\"200\"></img>\n",
    "<br>\n",
    "\n",
    "## Steno3D Parser Tutorial\n",
    "\n",
    "In this Tutorial, we will walk through how to use a Steno3D parser. For this notebook we will use the .obj parser. A list of all avaliable parsers as well as instructions for implementing your own parser can be found in the <a href=\"https://python.steno3d.com/en/latest/content/parsers.html\">online documentation</a>.\n",
    "\n",
    "Note: All parsers implemented according to the guidelines in the documentation should behave similarly to this. However, parsers can be written by anyone and they may not follow the guidelines. If you run into any problems, please refer to the individual parser's documentation and consider submitting an issue on github (e.g. <a href=\"https://github.com/3ptscience/steno3d-obj/issues\">.obj issues</a>).\n",
    "___"
   ]
  },
  {
   "cell_type": "markdown",
   "metadata": {},
   "source": [
    "#### Importing a Parser\n",
    "\n",
    "First, import `steno3d` and the parser module, in this case `steno3d_obj`. This will put the available parser classes into the `steno3d.parsers` namespace."
   ]
  },
  {
   "cell_type": "code",
   "execution_count": null,
   "metadata": {
    "collapsed": false
   },
   "outputs": [],
   "source": [
    "import steno3d\n",
    "import steno3d_obj"
   ]
  },
  {
   "cell_type": "markdown",
   "metadata": {},
   "source": [
    "An example .obj file is available from the `steno3d.examples` module."
   ]
  },
  {
   "cell_type": "code",
   "execution_count": null,
   "metadata": {
    "collapsed": false
   },
   "outputs": [],
   "source": [
    "from steno3d.examples import Files\n",
    "Files.fetch_data(verbose=False)  # To specify a different data directory than the\n",
    "                                 # default '$HOME/.steno3d_python_assets/' use\n",
    "                                 # keyword argument `directory='/path/to/your/directory/'`\n",
    "fname = Files.obj_file"
   ]
  },
  {
   "cell_type": "markdown",
   "metadata": {},
   "source": [
    "#### Parsing a File\n",
    "\n",
    "Initialize the parser with the name of the file you wish to parse."
   ]
  },
  {
   "cell_type": "code",
   "execution_count": null,
   "metadata": {
    "collapsed": false
   },
   "outputs": [],
   "source": [
    "my_parser = steno3d.parsers.obj(fname)"
   ]
  },
  {
   "cell_type": "markdown",
   "metadata": {},
   "source": [
    "Then to parse the file into a new project, call `parse` on the parser. This function returns a tuple of projects; in the case of the .obj parser, only one project is returned, but more complicated file types may produce multiple projects."
   ]
  },
  {
   "cell_type": "code",
   "execution_count": null,
   "metadata": {
    "collapsed": false
   },
   "outputs": [],
   "source": [
    "(my_proj,) = my_parser.parse()"
   ]
  },
  {
   "cell_type": "markdown",
   "metadata": {},
   "source": [
    "That's it - the contents of the file are now a Steno3D Project that can be modified, uploaded, and shared on steno3d.com!\n",
    "___"
   ]
  },
  {
   "cell_type": "markdown",
   "metadata": {},
   "source": [
    "#### Other Features\n",
    "\n",
    "You may also parse a file with a recognized extension using `AllParsers`. This is may be useful if many parser modules are imported."
   ]
  },
  {
   "cell_type": "code",
   "execution_count": null,
   "metadata": {
    "collapsed": true
   },
   "outputs": [],
   "source": [
    "my_parser = steno3d.parsers.AllParsers(fname)"
   ]
  },
  {
   "cell_type": "markdown",
   "metadata": {},
   "source": [
    "Additionally, you may parse files into an existing project."
   ]
  },
  {
   "cell_type": "code",
   "execution_count": null,
   "metadata": {
    "collapsed": false
   },
   "outputs": [],
   "source": [
    "my_proj = steno3d.Project(\n",
    "    title='Parser Project'\n",
    ")\n",
    "\n",
    "my_parser.parse(my_proj)\n",
    "assert len(my_proj.resources) == 1"
   ]
  }
 ],
 "metadata": {
  "kernelspec": {
   "display_name": "Python 2",
   "language": "python",
   "name": "python2"
  },
  "language_info": {
   "codemirror_mode": {
    "name": "ipython",
    "version": 2
   },
   "file_extension": ".py",
   "mimetype": "text/x-python",
   "name": "python",
   "nbconvert_exporter": "python",
   "pygments_lexer": "ipython2",
   "version": "2.7.12"
  }
 },
 "nbformat": 4,
 "nbformat_minor": 0
}
