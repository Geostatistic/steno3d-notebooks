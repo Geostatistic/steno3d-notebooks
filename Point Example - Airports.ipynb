{
 "cells": [
  {
   "cell_type": "markdown",
   "metadata": {
    "collapsed": true
   },
   "source": [
    "<img src=\"images/steno3d.png\" width=\"200\"></img>\n",
    "<br>\n",
    "\n",
    "# Point Example: Airports\n",
    "\n",
    "This project shows the location of 6977 airports all around the world from <a href=\"http://openflights.org/data.html\">openflights.org</a>. We will use the `steno3d.examples` module to download the latitude, longitude, and altitude data for each airport, then use <a href=\"https://steno3d.com\">Steno3D</a> to display them as points in 3D.\n",
    "\n",
    "<img src=\"images/airports.png\" width=\"400\"></img>"
   ]
  },
  {
   "cell_type": "markdown",
   "metadata": {},
   "source": [
    "___\n",
    "**Navigation**\n",
    "- <a href=\"index.ipynb\">Notebook home</a>\n",
    "- <a href=\"https://steno3d.com\">Steno3D website</a>\n",
    "- <a href=\"https://steno3d.com/docs\">Steno3D documentation</a>\n",
    "- <a href=\"https://github.com/3ptscience/steno3dpy-notebooks/issues/new\">Report an issue</a>\n",
    "___"
   ]
  },
  {
   "cell_type": "markdown",
   "metadata": {},
   "source": [
    "### Import Dependencies"
   ]
  },
  {
   "cell_type": "code",
   "execution_count": null,
   "metadata": {
    "collapsed": false
   },
   "outputs": [],
   "source": [
    "import numpy as np\n",
    "import steno3d"
   ]
  },
  {
   "cell_type": "markdown",
   "metadata": {
    "collapsed": true
   },
   "source": [
    "### Login to Steno3D\n",
    "\n",
    "Before using Steno3D, you need to <a href=\"https://steno3d.com/signup\">sign up for an account</a> to get your own developer API key if you do not have one already. Running the cell below will provide you with instructions for how to obtain and enter your key. \n",
    "\n",
    "The option to `skip_credentials` prevents saving your developer key to the mybinder.org server. When working on your local computer, remove this argument and your key will be saved."
   ]
  },
  {
   "cell_type": "code",
   "execution_count": null,
   "metadata": {
    "collapsed": false
   },
   "outputs": [],
   "source": [
    "steno3d.login(skip_credentials = True)"
   ]
  },
  {
   "cell_type": "markdown",
   "metadata": {},
   "source": [
    "For this notebook, we will be using example data from the `steno3d.examples.Airports` module. This module downloads raw data, saves it to a folder in the home directory (or another location you may specify), and allows easy access to all the different pieces of data."
   ]
  },
  {
   "cell_type": "code",
   "execution_count": null,
   "metadata": {
    "collapsed": false
   },
   "outputs": [],
   "source": [
    "from steno3d.examples import Airports\n",
    "Airports.fetch_data(verbose=False)  # To specify a different data directory than the\n",
    "                                    # default '$HOME/.steno3d_python_assets/' use\n",
    "                                    # keyword argument `directory='/path/to/your/directory/'`"
   ]
  },
  {
   "cell_type": "markdown",
   "metadata": {
    "collapsed": true
   },
   "source": [
    "### Create a Project  \n",
    "\n",
    "The first step when working in Steno3D is creating a `Project`. Projects organize all your data together; you can give them a `title` and `description` as well as set the privacy. Here we are setting `public=True`; public projects are viewable by anyone. You can <a href=\"https://steno3d.com/explore\">explore public projects on steno3d.com</a> or read the detailed project <a href=\"https://python.steno3d.com/en/latest/content/api/projects.html\">API documentation</a>."
   ]
  },
  {
   "cell_type": "code",
   "execution_count": null,
   "metadata": {
    "collapsed": false
   },
   "outputs": [],
   "source": [
    "airport_proj = steno3d.Project(\n",
    "    title='Airports', \n",
    "    description='Airport locations all around the world',\n",
    "    public=True\n",
    ")"
   ]
  },
  {
   "cell_type": "markdown",
   "metadata": {},
   "source": [
    "### Create Points\n",
    "\n",
    "Since airports are individual discreet locations, they are best visualized as points. Here, we initialize points with the containing `project` and a `title`. Geometry and options will be added subsequently. For more information, refer to the point <a href=\"https://python.steno3d.com/en/latest/content/api/resources/point.html\">API documentation</a>."
   ]
  },
  {
   "cell_type": "code",
   "execution_count": null,
   "metadata": {
    "collapsed": false
   },
   "outputs": [],
   "source": [
    "airport_pts = steno3d.Point(\n",
    "    project=airport_proj,\n",
    "    title='Airports Locations'\n",
    ")"
   ]
  },
  {
   "cell_type": "markdown",
   "metadata": {},
   "source": [
    "### Define the Point Geometry\n",
    "\n",
    "In Steno3D, point geometry is defined using a <a href=\"https://python.steno3d.com/en/latest/content/api/resources/point.html#steno3d.point.Mesh0D\">Mesh0D</a>. This mesh only contains vertex locations. Here, we load global coordinates of the airports using `steno3d.examples.Airports`..."
   ]
  },
  {
   "cell_type": "code",
   "execution_count": null,
   "metadata": {
    "collapsed": false
   },
   "outputs": [],
   "source": [
    "lat = Airports.latitude\n",
    "lon = Airports.longitude\n",
    "alt = Airports.altitude"
   ]
  },
  {
   "cell_type": "markdown",
   "metadata": {},
   "source": [
    "...convert them to Cartesian xyz coordinates using the `geo_to_xyz` method from the Airports module..."
   ]
  },
  {
   "cell_type": "code",
   "execution_count": null,
   "metadata": {
    "collapsed": true
   },
   "outputs": [],
   "source": [
    "xyz_verts = np.c_[Airports.geo_to_xyz(lat, lon, alt)]"
   ]
  },
  {
   "cell_type": "markdown",
   "metadata": {},
   "source": [
    "...and create a mesh using these coordinates as vertices."
   ]
  },
  {
   "cell_type": "code",
   "execution_count": null,
   "metadata": {
    "collapsed": true
   },
   "outputs": [],
   "source": [
    "pt_mesh = steno3d.Mesh0D(\n",
    "    vertices=xyz_verts\n",
    ")"
   ]
  },
  {
   "cell_type": "markdown",
   "metadata": {},
   "source": [
    "Finally, add this mesh to the points."
   ]
  },
  {
   "cell_type": "code",
   "execution_count": null,
   "metadata": {
    "collapsed": true
   },
   "outputs": [],
   "source": [
    "airport_pts.mesh = pt_mesh"
   ]
  },
  {
   "cell_type": "markdown",
   "metadata": {},
   "source": [
    "### Point Options\n",
    "We can set the <a href=\"https://python.steno3d.com/en/latest/content/api/resources/point.html#steno3d.point._PointOptions\">options</a> for the point. This includes `color` and `opacity`."
   ]
  },
  {
   "cell_type": "code",
   "execution_count": null,
   "metadata": {
    "collapsed": false
   },
   "outputs": [],
   "source": [
    "airport_pts.opts = dict(\n",
    "    color=[34, 139, 34],\n",
    "    opacity=1\n",
    ")"
   ]
  },
  {
   "cell_type": "markdown",
   "metadata": {},
   "source": [
    "### Upload and Plot\n",
    "\n",
    "Calling `upload` will check that all aspects of the points and its containing project are built correctly, then upload the project to <a href=\"https://steno3d.com\">steno3d.com</a>."
   ]
  },
  {
   "cell_type": "code",
   "execution_count": null,
   "metadata": {
    "collapsed": false
   },
   "outputs": [],
   "source": [
    "airport_proj.upload()"
   ]
  },
  {
   "cell_type": "markdown",
   "metadata": {},
   "source": [
    "Once the project is uploaded, you can view it at the link provided or you can plot the points inline here with `plot`."
   ]
  },
  {
   "cell_type": "code",
   "execution_count": null,
   "metadata": {
    "collapsed": false
   },
   "outputs": [],
   "source": [
    "airport_pts.plot()"
   ]
  },
  {
   "cell_type": "markdown",
   "metadata": {
    "collapsed": true
   },
   "source": [
    "___\n",
    "**Navigation**\n",
    "- <a href=\"#Point-Example:-Airports\">Top of page</a>\n",
    "- <a href=\"index.ipynb\">Notebook home</a>\n",
    "- <a href=\"https://steno3d.com\">Steno3D website</a>\n",
    "- <a href=\"https://steno3d.com/docs\">Steno3D documentation</a>\n",
    "- <a href=\"https://github.com/3ptscience/steno3dpy-notebooks/issues/new\">Report an issue</a>\n",
    "___"
   ]
  }
 ],
 "metadata": {
  "kernelspec": {
   "display_name": "Python 2",
   "language": "python",
   "name": "python2"
  },
  "language_info": {
   "codemirror_mode": {
    "name": "ipython",
    "version": 2
   },
   "file_extension": ".py",
   "mimetype": "text/x-python",
   "name": "python",
   "nbconvert_exporter": "python",
   "pygments_lexer": "ipython2",
   "version": "2.7.12"
  }
 },
 "nbformat": 4,
 "nbformat_minor": 0
}
