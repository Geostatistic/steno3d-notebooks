{
 "cells": [
  {
   "cell_type": "markdown",
   "metadata": {},
   "source": [
    "<img src=\"images/steno3d.png\" width=\"200\"></img>\n",
    "<br>\n",
    "\n",
    "# Steno3D Quickstart Example\n",
    "\n",
    "In this notebook, we will create and explore a public project with <a href=\"https://steno3d.com\">Steno3D</a>. \n",
    "\n",
    "- <a href=\"#Login-to-Steno3D\">Login to Steno3D</a> using a temporary API key\n",
    "- <a href=\"#Create-a-Project\">Create</a> a project\n",
    "- <a href=\"#Add-Resources-to-the-Project\">Add resources</a> to the project\n",
    "- <a href=\"#View,-Explore,-and-Share\">View, explore, and share</a> the Steno3D project"
   ]
  },
  {
   "cell_type": "markdown",
   "metadata": {},
   "source": [
    "___\n",
    "**Navigation**\n",
    "- <a href=\"index.ipynb\">Notebook home</a>\n",
    "- <a href=\"https://steno3d.com\">Steno3D website</a>\n",
    "- <a href=\"https://steno3d.com/docs\">Steno3D documentation</a>\n",
    "- <a href=\"https://github.com/3ptscience/steno3dpy-notebooks/issues/new\">Report an issue</a>\n",
    "___"
   ]
  },
  {
   "cell_type": "code",
   "execution_count": null,
   "metadata": {
    "collapsed": true
   },
   "outputs": [],
   "source": [
    "import steno3d"
   ]
  },
  {
   "cell_type": "markdown",
   "metadata": {},
   "source": [
    "## Login to Steno3D\n",
    "\n",
    "The first thing you must do is login to Steno3D. You can <a href=\"https://steno3d.com/signup\">sign up for an account</a> to get your own developer API key if you do not have one already. Running the cell below will provide you with instructions for how to obtain and enter your key.\n",
    "\n",
    "The option to `skip_credentials` prevents saving your developer key to the binder server. When working on your local computer, remove this argument and your key will be saved."
   ]
  },
  {
   "cell_type": "code",
   "execution_count": null,
   "metadata": {
    "collapsed": false
   },
   "outputs": [],
   "source": [
    "steno3d.login(skip_credentials=True)"
   ]
  },
  {
   "cell_type": "markdown",
   "metadata": {},
   "source": [
    "## Create a Project\n",
    "\n",
    "The first step when working in Steno3D is creating a `Project`. Projects organize all your data together; you can give them a `title` and `description` as well as set the privacy. Here we are setting `public=True`; public projects are viewable by anyone. You can <a href=\"https://steno3d.com/explore\">explore public projects on steno3d.com</a>. Additional <a href=\"https://python.steno3d.com/en/latest/content/api/projects.html\">API documentation</a> is available online.  "
   ]
  },
  {
   "cell_type": "code",
   "execution_count": null,
   "metadata": {
    "collapsed": false
   },
   "outputs": [],
   "source": [
    "my_proj = steno3d.Project(\n",
    "    title='Demo Project', \n",
    "    description='My first project',\n",
    "    public=True\n",
    ")"
   ]
  },
  {
   "cell_type": "markdown",
   "metadata": {},
   "source": [
    "## Add Resources to the Project\n",
    "\n",
    "For this demo project we will be creating a surface defined by the <a href=\"https://en.wikipedia.org/wiki/Sinc_function\">sinc function</a>. Let's get the math out of the way..."
   ]
  },
  {
   "cell_type": "code",
   "execution_count": null,
   "metadata": {
    "collapsed": false
   },
   "outputs": [],
   "source": [
    "import numpy as np\n",
    "# define the sinc topography function\n",
    "topo = lambda X, Y: 50*np.sinc(np.sqrt(X**2. + Y**2.)/20.)\n",
    "# x and y coordinates and topography\n",
    "x = np.linspace(-100, 100., num=100.)\n",
    "y = np.linspace(-100., 100., num=100.)\n",
    "X, Y = np.meshgrid(x, y, indexing='ij')\n",
    "Z = topo(X, Y)"
   ]
  },
  {
   "cell_type": "markdown",
   "metadata": {},
   "source": [
    "First we will take a look at this surface using `matplotlib`, a basic plotting tool you may be familiar with."
   ]
  },
  {
   "cell_type": "code",
   "execution_count": null,
   "metadata": {
    "collapsed": false
   },
   "outputs": [],
   "source": [
    "import matplotlib.pyplot as plt\n",
    "%matplotlib inline\n",
    "plt.colorbar(plt.pcolor(X,Y,Z))"
   ]
  },
  {
   "cell_type": "markdown",
   "metadata": {},
   "source": [
    "Let's now use Steno3D to turn this simple plot into an interactive 3D surface! To create this surface, we need to define the mesh geometry and topography data, add these to a surface, and add the surface to the project we already created. For an in-depth, step-by-step walkthrough see <a href=\"API%20Notebook.ipynb\">the Steno3D API notebook</a> or <a href=\"https://python.steno3d.com/en/latest/content/api/resources/index.html\">the resource API documentation</a>."
   ]
  },
  {
   "cell_type": "code",
   "execution_count": null,
   "metadata": {
    "collapsed": false
   },
   "outputs": [],
   "source": [
    "# Reshape the topo array\n",
    "topo_Z = Z.flatten()\n",
    "# Build the mesh\n",
    "my_mesh = steno3d.Mesh2DGrid(\n",
    "    h1=np.diff(x),\n",
    "    h2=np.diff(y),\n",
    "    O=np.r_[-100.,-100.,0.],\n",
    "    Z=topo_Z\n",
    ")\n",
    "# Build the data\n",
    "my_data = steno3d.DataArray(\n",
    "    title='Sinc Topography Data',\n",
    "    array=topo_Z\n",
    ")\n",
    "# Build the surface\n",
    "my_surf = steno3d.Surface(\n",
    "    project=my_proj,\n",
    "    mesh=my_mesh,\n",
    "    data=[dict(\n",
    "        location='N',\n",
    "        data=my_data\n",
    "    )],\n",
    "    title='Sinc Surface',\n",
    "    description='3D rendering of sinc fuction in Steno3D'\n",
    ")"
   ]
  },
  {
   "cell_type": "markdown",
   "metadata": {},
   "source": [
    "## View, Explore, and Share\n",
    "\n",
    "You can now `upload` the project to <a href=\"https://steno3d.com\">steno3d.com</a>. Uploading takes a few moments. Also, we are turning on syncing. That means all future changes to the project will sync with the uploaded project automatically."
   ]
  },
  {
   "cell_type": "code",
   "execution_count": null,
   "metadata": {
    "collapsed": false
   },
   "outputs": [],
   "source": [
    "my_surf.upload(sync=True)"
   ]
  },
  {
   "cell_type": "markdown",
   "metadata": {},
   "source": [
    "We can inspect this surface inline in the notebook."
   ]
  },
  {
   "cell_type": "code",
   "execution_count": null,
   "metadata": {
    "collapsed": false
   },
   "outputs": [],
   "source": [
    "my_surf.plot()"
   ]
  },
  {
   "cell_type": "markdown",
   "metadata": {},
   "source": [
    "Now we can view our project on <a href=\"https://steno3d.com\">steno3d.com</a> to explore further and share."
   ]
  },
  {
   "cell_type": "code",
   "execution_count": null,
   "metadata": {
    "collapsed": false
   },
   "outputs": [],
   "source": [
    "print(my_proj.url)"
   ]
  },
  {
   "cell_type": "markdown",
   "metadata": {},
   "source": [
    "## One Step Further\n",
    "\n",
    "Let's add some points to this project as well. We will define these with the same sinc `topo` function used for the surface. Since we have already uploaded the project, adding new data should sync with the uploaded data."
   ]
  },
  {
   "cell_type": "code",
   "execution_count": null,
   "metadata": {
    "collapsed": false
   },
   "outputs": [],
   "source": [
    "# define point geometry\n",
    "xp = np.linspace(-100., 100., 50.)\n",
    "yp = np.linspace(-100., 100., 50.)\n",
    "XP, YP = np.meshgrid(xp, yp)\n",
    "ZP = topo(XP, YP)\n",
    "xyz_points = np.vstack([XP.flatten(order='F'),\n",
    "                        YP.flatten(order='F'),\n",
    "                        ZP.flatten(order='F')]).T\n",
    "# create Steno3D resource\n",
    "my_mesh = steno3d.Mesh0D(\n",
    "    vertices=xyz_points\n",
    ")\n",
    "my_data = steno3d.DataArray(\n",
    "    title='Sinc Point Topography Data',\n",
    "    array=xyz_points[:,2]\n",
    ")\n",
    "my_point = steno3d.Point(\n",
    "    project=my_proj,\n",
    "    mesh=my_mesh,\n",
    "    data=[dict(\n",
    "        location='N',\n",
    "        data=my_data\n",
    "    )],\n",
    "    title='Sinc Dots',\n",
    "    description='Points along the topographic surface'\n",
    ")\n",
    "\n",
    "print(my_proj.url)"
   ]
  },
  {
   "cell_type": "markdown",
   "metadata": {},
   "source": [
    "Syncing is active, so if you navigate to the project on <a href=\"https://steno3d.com\">steno3d.com</a> at the printed link the points should appear! If you make a mistake, syncing may stop. In this case, simply `upload` again once you are ready; if you are in the same local project, it should simply update the project on <a href=\"https://steno3d.com\">steno3d.com</a>."
   ]
  },
  {
   "cell_type": "markdown",
   "metadata": {},
   "source": [
    "## Want to work with *your* data?\n",
    "\n",
    "You can download Steno3D from pip:\n",
    "```\n",
    "pip install steno3d\n",
    "```\n",
    "or install from source\n",
    "```\n",
    "git clone https://github.com/3ptscience/steno3dpy.git\n",
    "python setup.py install \n",
    "```"
   ]
  },
  {
   "cell_type": "markdown",
   "metadata": {},
   "source": [
    "___\n",
    "**Navigation**\n",
    "- <a href=\"#Steno3D-Quickstart-Example\">Top of page</a>\n",
    "- <a href=\"index.ipynb\">Notebook home</a>\n",
    "- <a href=\"https://steno3d.com\">Steno3D website</a>\n",
    "- <a href=\"https://steno3d.com/docs\">Steno3D documentation</a>\n",
    "- <a href=\"https://github.com/3ptscience/steno3dpy-notebooks/issues/new\">Report an issue</a>\n",
    "___"
   ]
  }
 ],
 "metadata": {
  "kernelspec": {
   "display_name": "Python 2",
   "language": "python",
   "name": "python2"
  },
  "language_info": {
   "codemirror_mode": {
    "name": "ipython",
    "version": 2
   },
   "file_extension": ".py",
   "mimetype": "text/x-python",
   "name": "python",
   "nbconvert_exporter": "python",
   "pygments_lexer": "ipython2",
   "version": "2.7.11"
  }
 },
 "nbformat": 4,
 "nbformat_minor": 0
}
