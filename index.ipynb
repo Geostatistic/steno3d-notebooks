{
 "cells": [
  {
   "cell_type": "markdown",
   "metadata": {},
   "source": [
    "<img src=\"images/steno3d.png\" width=\"200\"></img>\n",
    "<br>\n",
    "\n",
    "# Welcome to steno3d!\n",
    "\n",
    "These notebooks are a collection of examples to get you up and running and exploring your 3D data with <a href=\"http://steno3d.com\">Steno3D</a>. \n",
    "\n",
    "**Contents** \n",
    "1. <a href=\"./1.%20My%20First%20Project%20in%20Steno3D.ipynb\">My First Project in Steno3D</a>: upload and explore a simple 3D model with steno3d\n",
    "2. <a href=\"./2.%20Steno3d%20Resources.ipynb\">steno3d Resources</a>: creating and viewing points, lines, surfaces, and volumes\n",
    "3. <a href=\"./3.%20Example%20Wolf%20Pass%20Project.ipynb\">Example: Wolf Pass Exploration Project</a> \n",
    "\n",
    "<br>\n",
    "**Navigation**\n",
    "- <a href=\"https://steno3d.com\">Steno3D website</a>\n",
    "- <a href=\"https://steno3d.com/docs\">Steno3D documentation</a>\n",
    "- <a href=\"https://github.com/3ptscience/steno3dpy-notebooks/issues/new\">Report an issue</a>"
   ]
  },
  {
   "cell_type": "code",
   "execution_count": null,
   "metadata": {
    "collapsed": true
   },
   "outputs": [],
   "source": []
  }
 ],
 "metadata": {
  "kernelspec": {
   "display_name": "Python 2",
   "language": "python",
   "name": "python2"
  },
  "language_info": {
   "codemirror_mode": {
    "name": "ipython",
    "version": 2
   },
   "file_extension": ".py",
   "mimetype": "text/x-python",
   "name": "python",
   "nbconvert_exporter": "python",
   "pygments_lexer": "ipython2",
   "version": "2.7.11"
  }
 },
 "nbformat": 4,
 "nbformat_minor": 0
}
