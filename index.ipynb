{
 "cells": [
  {
   "cell_type": "markdown",
   "metadata": {},
   "source": [
    "<img src=\"images/steno3d.png\" width=\"200\"></img>\n",
    "<br>\n",
    "\n",
    "# Welcome to Steno3D!\n",
    "\n",
    "These notebooks are a collection of examples to get you up and running and exploring your 3D data with <a href=\"http://steno3d.com\">Steno3D</a>. "
   ]
  },
  {
   "cell_type": "markdown",
   "metadata": {},
   "source": [
    "**Getting Started** \n",
    "- <a href=\"./example_quickstart.ipynb\">**Quickstart Example**</a>: upload and explore a simple 3D model with Steno3D. You can also follow along with this project in the <a href=\"https://python.steno3d.com/en/latest/content/quickstart.html\">online documentation</a>.\n",
    "- <a href=\"./tutorial_point.ipynb\">**Basic Point Tutorial** - Airports</a>: create and upload a point dataset\n",
    "- <a href=\"./tutorial_line.ipynb\">**Basic Line Tutorial** - Magnetic Field</a>: create and upload a line dataset\n",
    "- <a href=\"./tutorial_surface_triangle.ipynb\">**Basic Triangulated Surface Tutorial** - Rocket Engine</a>: create and upload a surface dataset\n",
    "- <a href=\"./tutorial_surface_grid.ipynb\">**Basic Gridded Surface Tutorial** - DEM Topography</a>: create and upload a surface dataset\n",
    "- <a href=\"./tutorial_volume.ipynb\">**Basic Volume Tutorial** - Brain MRI</a>: create and upload a volume dataset\n",
    "___"
   ]
  },
  {
   "cell_type": "markdown",
   "metadata": {},
   "source": [
    "**Additional Examples**\n",
    "- <a href=\"./example_wolfpass.ipynb\">**Comprehensive Example** - Wolf Pass Exploration Project</a>\n",
    "___"
   ]
  },
  {
   "cell_type": "markdown",
   "metadata": {},
   "source": [
    "**Supplemental Tutorials**\n",
    "- <a href=\"./tutorial_parser.ipynb\">**Parser Tutorial**</a>: Walkthrough of using a Steno3D file parser module\n",
    "___"
   ]
  },
  {
   "cell_type": "markdown",
   "metadata": {},
   "source": [
    "**External Links**\n",
    "- <a href=\"https://steno3d.com\">Steno3D website</a>\n",
    "- <a href=\"https://steno3d.com/docs\">Steno3D documentation</a>\n",
    "- <a href=\"https://github.com/3ptscience/steno3d-notebooks/issues/new\">Report an issue</a>\n",
    "___"
   ]
  }
 ],
 "metadata": {
  "kernelspec": {
   "display_name": "Python 2",
   "language": "python",
   "name": "python2"
  },
  "language_info": {
   "codemirror_mode": {
    "name": "ipython",
    "version": 2
   },
   "file_extension": ".py",
   "mimetype": "text/x-python",
   "name": "python",
   "nbconvert_exporter": "python",
   "pygments_lexer": "ipython2",
   "version": "2.7.12"
  }
 },
 "nbformat": 4,
 "nbformat_minor": 0
}
