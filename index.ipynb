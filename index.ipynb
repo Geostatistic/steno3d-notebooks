{
 "cells": [
  {
   "cell_type": "markdown",
   "metadata": {},
   "source": [
    "<img src=\"images/steno3d.png\" width=\"200\"></img>\n",
    "<br>\n",
    "\n",
    "# Welcome to Steno3D!\n",
    "\n",
    "These notebooks are a collection of examples to get you up and running and exploring your 3D data with <a href=\"http://steno3d.com\">Steno3D</a>. "
   ]
  },
  {
   "cell_type": "markdown",
   "metadata": {},
   "source": [
    "**Getting Started** \n",
    "- <a href=\"./Quickstart%20Example.ipynb\">**Quickstart Example**</a>: upload and explore a simple 3D model with Steno3D. You can also follow along with this project in the <a href=\"https://python.steno3d.com/en/latest/content/quickstart.html\">online documentation</a>.\n",
    "- <a href=\"./Point%20Example%20-%20Airports.ipynb\">**Basic Point Example** - Airports</a>: create and upload a point dataset\n",
    "___"
   ]
  },
  {
   "cell_type": "markdown",
   "metadata": {},
   "source": [
    "**Additional Examples**\n",
    "- <a href=\"./Comprehensive%20Example%20-%20Wolf%20Pass.ipynb\">**Comprehensive Example** - Wolf Pass Exploration Project</a>\n",
    "___"
   ]
  },
  {
   "cell_type": "markdown",
   "metadata": {},
   "source": [
    "**Supplemental Tutorials**\n",
    "- <a href=\"./Parser%20Tutorial.ipynb\">**Parser Tutorial**</a>: Walkthrough of using a Steno3D file parser module\n",
    "- <a href=\"./API%20Notebook.ipynb\">**API Notebook**</a>: Extensive walkthrough of Steno3D API\n",
    "___"
   ]
  },
  {
   "cell_type": "markdown",
   "metadata": {},
   "source": [
    "**External Links**\n",
    "- <a href=\"https://steno3d.com\">Steno3D website</a>\n",
    "- <a href=\"https://steno3d.com/docs\">Steno3D documentation</a>\n",
    "- <a href=\"https://github.com/3ptscience/steno3dpy-notebooks/issues/new\">Report an issue</a>\n",
    "___"
   ]
  }
 ],
 "metadata": {
  "kernelspec": {
   "display_name": "Python 2",
   "language": "python",
   "name": "python2"
  },
  "language_info": {
   "codemirror_mode": {
    "name": "ipython",
    "version": 2
   },
   "file_extension": ".py",
   "mimetype": "text/x-python",
   "name": "python",
   "nbconvert_exporter": "python",
   "pygments_lexer": "ipython2",
   "version": "2.7.12"
  }
 },
 "nbformat": 4,
 "nbformat_minor": 0
}
