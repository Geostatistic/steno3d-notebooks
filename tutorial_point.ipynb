{
 "cells": [
  {
   "cell_type": "markdown",
   "metadata": {
    "collapsed": true
   },
   "source": [
    "<img src=\"images/steno3d.png\" width=\"200\"></img>\n",
    "<br>\n",
    "\n",
    "<h1 style=\"color:#000080;\"> Point Example: Airports location </h1> \n",
    "\n",
    "This project shows the location of 6977 airports all around the world <sup> <a href=\"http://openflights.org/data.html\">[1]</a> </sup>. The data source is a simple comma-separated file. We can read the latitude, longitude and altitude of each airport and convert the values into points in 3D space. These points are shown on the surface of a globe which represents the Earth.\n",
    "\n",
    "<div>\n",
    "    <figure>\n",
    "    <div style=\"height: 300px;\">\n",
    "    <img src=\"images/airport1.png\" style=\"float: right; width: 48%; margin-top: 3%; \">\n",
    "    <img src=\"images/airport2.png\" style=\"float: left; width: 48%; margin-top: 3%;\">\n",
    "    </div>\n",
    "    <figcaption align=\"middle\"><div style=\"width: 50%; margin-left: auto; margin-right: auto; font-weight: bold; font-style: italic; font-size: 15px; margin-top: 20%; margin-bottom: 2%\"> Figure 1: Visualization of global airport locations in Steno3D </div>\n",
    "    </figcaption>\n",
    "    </figure>\n",
    "</div>"
   ]
  },
  {
   "cell_type": "markdown",
   "metadata": {},
   "source": [
    "<h3 style=\"color:#000080;\"> Import Dependencies </h3>"
   ]
  },
  {
   "cell_type": "code",
   "execution_count": null,
   "metadata": {
    "collapsed": false
   },
   "outputs": [],
   "source": [
    "import numpy as np\n",
    "import steno3d"
   ]
  },
  {
   "cell_type": "markdown",
   "metadata": {},
   "source": [
    "<h3 style=\"color:#000080;\"> Login to Steno3D </h3>\n",
    "\n",
    "Before using Steno3D, you need to <a href=\"https://steno3d.com/signup\">sign up for an account</a> to get your own developer API key if you do not have one already. Running the cell below will provide you with instructions for how to obtain and enter your key. \n",
    "\n",
    "The option to `skip_credentials` prevents saving your developer key to the mybinder.org server. When working on your local computer, remove this argument and your key will be saved."
   ]
  },
  {
   "cell_type": "code",
   "execution_count": null,
   "metadata": {
    "collapsed": false
   },
   "outputs": [],
   "source": [
    "steno3d.login(skip_credentials=True) "
   ]
  },
  {
   "cell_type": "markdown",
   "metadata": {},
   "source": [
    "<h3 style=\"color:#000080;\"> Steno3D Points </h3>\n",
    "\n",
    "Before moving to the next step, we need to know how we can draw points in Steno3D. In this section we briefly describe the process of drawing points in Steno3D before making the actual example. The way that Steno3D works is to first create a mesh and then bind the data to the mesh. The mesh defines the geometry of the pointset. So the first step to create points is to make a 0D mesh (in Steno3D, we refer to point mesh as 0D mesh). Point meshes are formed by vertices. A simple example of a point mesh is depicted in the Figure 2.  \n",
    "\n",
    "<figure>\n",
    "    <img src=\"images/mesh0d.png\" width =\"700px\" height=\"400px\" align= middle style= \"margin-top: 3%\">\n",
    "    <figcaption align=\"middle\"><div style=\"width: 30%; margin: auto; font-weight: bold; font-style: italic; font-size: 15px; margin-bottom: 5%; margin-top: 3%\"> Figure 2: Point Mesh (Mesh0D)</div> </figcaption>\n",
    "</figure>\n",
    "\n",
    "As shown in this figure, vertices are 3D points represented by (x, y, z) coordinates. Vertices must always be a n x 3 array of spatial coordinates. Additional documentation for Mesh0D can be found <a href=\"https://python.steno3d.com/en/latest/content/api/resources/point.html#meshes\">online</a>.\n",
    "\n",
    "After making the 0D mesh, we can bind the `data` to the points. This is simply done by using a dictionary containing `location` (nodes/vertices,'N', is the only available location for points) and `data`, a <a href=\"https://python.steno3d.com/en/latest/content/api/resources/data.html#resources-data\">DataArray</a>. The length of point data must equal the length of point mesh vertices. In this example we do not bind data to the points. \n",
    "\n",
    "Another feature for Steno3D points is that we can map an image to a point mesh. We refer to the images projected on a point as `textures`. Unlike data, `textures` do not correspond to certain mesh locations but instead are defined using spatial coordinates. In this example, we do not add `textures` to the points. For more information on `textures` please check <a href=\"https://python.steno3d.com/en/latest/content/api/resources/texture.html\">Texture API documentation</a>."
   ]
  },
  {
   "cell_type": "markdown",
   "metadata": {},
   "source": [
    "<h3 style=\"color:#000080;\"> Create a Project </h3>\n",
    "\n",
    "Before making any resources (points, lines, surfaces or volumes) in Steno3D, we need to create a `Project` to assign the resource to that project. Projects organize all your resources together and can contain a combination of resources; they can also be viewed and shared in Steno3D. \n",
    "\n",
    "Following are the properties of projects that you can modify if desired:\n",
    "\n",
    "<ul>\n",
    "    <li><b>title</b>: Title of the project</li>\n",
    "    <li><b>description</b>: Description of the project</li>\n",
    "    <li><b>public</b>: If True, the project is viewable by anyone online. If False, the project is private and only viewable by people you choose to share it with. Free and Academic accounts have limits on the number of private projects allowed; if you would like more, upgrade your account at steno3d.com.</li>\n",
    "    <li><b>resources</b>: List of resources the project contains.</li>\n",
    "</ul>\n",
    "\n",
    "You can <a href=\"https://steno3d.com/explore\">explore public projects on steno3d.com</a>. Additional <a href=\"https://python.steno3d.com/en/latest/content/api/projects.html\">API documentation</a> is available online."
   ]
  },
  {
   "cell_type": "code",
   "execution_count": null,
   "metadata": {
    "collapsed": false
   },
   "outputs": [],
   "source": [
    "airports_proj = steno3d.Project(\n",
    "    title='Airports', \n",
    "    description='Airports Locations All Around the World',\n",
    "    public=False\n",
    ")"
   ]
  },
  {
   "cell_type": "markdown",
   "metadata": {},
   "source": [
    "<h3 style=\"color:#000080;\"> Read Airports Data</h3> \n",
    "\n",
    "For this notebook, we will be using example data from the `steno3d.examples.PointExample_Airports` module. This module downloads raw data, saves it to a folder in the home directory (or another location you may specify), and allows easy access to all different pieces of data."
   ]
  },
  {
   "cell_type": "code",
   "execution_count": null,
   "metadata": {
    "collapsed": true
   },
   "outputs": [],
   "source": [
    "from steno3d.examples import Airports\n",
    "Airports.fetch_data(verbose=False)  # To specify a different data directory than the\n",
    "                                    # default '$HOME/.steno3d_python_assets/' use\n",
    "                                    # keyword argument `directory='/path/to/your/directory/'`"
   ]
  },
  {
   "cell_type": "markdown",
   "metadata": {},
   "source": [
    "This function reads the Airports data and returns lists of latitudes, longitudes and altitudes. "
   ]
  },
  {
   "cell_type": "code",
   "execution_count": null,
   "metadata": {
    "collapsed": false
   },
   "outputs": [],
   "source": [
    "DEG2RAD = np.pi/180\n",
    "FT2KM = 12*2.54/100/1000\n",
    "\n",
    "def read_airports_data(filename):\n",
    "    \"\"\"Extract latitude, longitude, and altitude from file\"\"\"\n",
    "    lat = [] # Latitude\n",
    "    lon = [] # Longitude\n",
    "    alt = [] # Altitude\n",
    "    with open(filename) as f:\n",
    "        for line in f:\n",
    "            data = line.rstrip().split(',')\n",
    "            lat.append(float(data[6])*DEG2RAD)\n",
    "            lon.append(float(data[7])*DEG2RAD)\n",
    "            alt.append(float(data[8])*FT2KM)\n",
    "    return np.array(lat), np.array(lon), np.array(alt)\n",
    "\n",
    "lat, lon, alt = read_airports_data(Airports.datafile)"
   ]
  },
  {
   "cell_type": "markdown",
   "metadata": {},
   "source": [
    "<h3 style=\"color:#000080;\"> Convert latitude, longitude and altitude into points in 3D space </h3>\n",
    "\n"
   ]
  },
  {
   "cell_type": "code",
   "execution_count": null,
   "metadata": {
    "collapsed": true
   },
   "outputs": [],
   "source": [
    "RADIUS = 6371\n",
    "\n",
    "def geo_to_xyz(lat, lon, alt):\n",
    "    \"\"\"Convert from geo coordinates to xyz\n",
    "    \n",
    "    Inputs:\n",
    "        lat: latitude\n",
    "        lon: longitude\n",
    "        alt: altitude\n",
    "        \n",
    "    Outputs:\n",
    "        x, y, z: spatial coordiantes relative to the center of the earth\n",
    "        \n",
    "    Note:\n",
    "        This function assumes a shpherical earth\n",
    "    \"\"\"\n",
    "    \n",
    "    x = (RADIUS + alt)*np.cos(lat)*np.cos(lon)\n",
    "    y = (RADIUS + alt)*np.cos(lat)*np.sin(lon)\n",
    "    z = (RADIUS + alt)*np.sin(lat)\n",
    " \n",
    "    return x, y, z"
   ]
  },
  {
   "cell_type": "markdown",
   "metadata": {},
   "source": [
    "<h3 style=\"color:#000080;\"> Point Mesh (Mesh0D) </h3>\n",
    "\n",
    "In Steno3D, points use `Mesh0D` which only contains vertices. Now we can use the `geo_to_xyz` function to generate vertices for a point mesh. `Mesh0D` have properties:\n",
    "\n",
    "<ul>\n",
    "    <li><b>vertices</b> (required)<sup><b>*</b></sup>: n x 3 array of spatial coordinates  \n",
    "    <li><b>title</b></li>\n",
    "    <li><b>description</b></li>\n",
    "</ul>\n",
    "\n",
    "(*): For the Point resource to pass validation prior to upload, required properties must be set."
   ]
  },
  {
   "cell_type": "code",
   "execution_count": null,
   "metadata": {
    "collapsed": false
   },
   "outputs": [],
   "source": [
    "my_verts = np.c_[geo_to_xyz(lat, lon, alt)]\n",
    "\n",
    "airports_mesh=steno3d.Mesh0D(\n",
    "    vertices=my_verts\n",
    ")"
   ]
  },
  {
   "cell_type": "markdown",
   "metadata": {},
   "source": [
    "<h3 style=\"color:#000080;\"> Create Point </h3>\n",
    "\n",
    "Now that we have the meshes for the pointsets, we can create the points. The following are point properties in Steno3D:\n",
    "\n",
    "<ul>\n",
    "    <li><b>project</b> (required): The project(s) that contain the resource</li>\n",
    "    <li><b>mesh</b> (required): Points use `Mesh0D`, a mesh that only contains `vertices` </li>\n",
    "    <li><b>data</b>: A list of `DataArrays` bound to the mesh</li>\n",
    "    <li><b>textures</b>: A list of `Texture2DImages`</li>\n",
    "    <li><b>opts</b>: A dictionary of options</li>\n",
    "    <li><b>title</b></li>\n",
    "    <li><b>description</b></li>\n",
    "</ul>\n",
    "\n",
    "Additional <a href=\"https://python.steno3d.com/en/latest/content/api/resources/point.html\">API documentation</a> is available online. "
   ]
  },
  {
   "cell_type": "code",
   "execution_count": null,
   "metadata": {
    "collapsed": false
   },
   "outputs": [],
   "source": [
    "airports_point = steno3d.Point(\n",
    "    project=airports_proj,\n",
    "    title='Airports Locations',\n",
    "    mesh=airports_mesh,\n",
    ")"
   ]
  },
  {
   "cell_type": "markdown",
   "metadata": {},
   "source": [
    "<h3 style=\"color:#000080;\"> Point Option </h3>\n",
    "\n",
    "We can set the options for the point. These include `color` and `opacity`."
   ]
  },
  {
   "cell_type": "code",
   "execution_count": null,
   "metadata": {
    "collapsed": true
   },
   "outputs": [],
   "source": [
    "airports_point.opts = dict(\n",
    "    color=[34, 139, 34],\n",
    "    opacity = 1\n",
    ")"
   ]
  },
  {
   "cell_type": "markdown",
   "metadata": {},
   "source": [
    "<h3 style=\"color:#000080;\"> Upload and Plot </h3>\n",
    "\n",
    "Calling `upload` will check that all aspects of surface and its containing project are built correctly, then upload the project to <a href=\"https://steno3d.com\">steno3d.com</a>."
   ]
  },
  {
   "cell_type": "code",
   "execution_count": null,
   "metadata": {
    "collapsed": false
   },
   "outputs": [],
   "source": [
    "airports_point.upload()"
   ]
  },
  {
   "cell_type": "code",
   "execution_count": null,
   "metadata": {
    "collapsed": false
   },
   "outputs": [],
   "source": [
    "airports_point.plot()"
   ]
  }
 ],
 "metadata": {
  "kernelspec": {
   "display_name": "Python 2",
   "language": "python",
   "name": "python2"
  },
  "language_info": {
   "codemirror_mode": {
    "name": "ipython",
    "version": 2
   },
   "file_extension": ".py",
   "mimetype": "text/x-python",
   "name": "python",
   "nbconvert_exporter": "python",
   "pygments_lexer": "ipython2",
   "version": "2.7.10"
  }
 },
 "nbformat": 4,
 "nbformat_minor": 0
}
