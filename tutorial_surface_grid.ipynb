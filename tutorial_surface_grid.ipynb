{
 "cells": [
  {
   "cell_type": "markdown",
   "metadata": {},
   "source": [
    "<img src=\"images/steno3d.png\" width=\"200\"></img>\n",
    "<br>\n",
    "<h1 style=\"color:#000080;\"> Surface Example: Topography </h1>\n",
    "\n",
    "This example shows how to plot gridded <a href=\"https://en.wikipedia.org/wiki/Digital_elevation_model\">Digital Elevation Model (DEM)</a> surface in Steno3D. Figure 1 shows the elevation of a ridge (left) and the satellite picture of the ridge (right).\n",
    "\n",
    "<div>\n",
    "    <div style=\"height: 250px;\">\n",
    "    <img src=\"images/topo1.png\" style=\"float: left; width: 50%; margin-top: 5%\">\n",
    "    <img src=\"images/topo2.png\" style=\"float: right; width: 50%; margin-top: 5%\">\n",
    "    </div>\n",
    "    <div style=\"width: 90%; margin-left: auto; margin-right: auto; font-weight: bold; font-style: italic; font-size: 15px; margin-top: 12%; margin-bottom: 3%\"> Figure 1: Visualization of Topography in Steno3D. Left: elevation data on the surface. Right: texture (satellite picture) added to the surface </div>\n",
    "</div>"
   ]
  },
  {
   "cell_type": "markdown",
   "metadata": {},
   "source": [
    "<h3 style=\"color:#000080;\"> Import Dependencies </h3>"
   ]
  },
  {
   "cell_type": "code",
   "execution_count": null,
   "metadata": {
    "collapsed": false
   },
   "outputs": [],
   "source": [
    "import json\n",
    "import numpy as np\n",
    "import steno3d"
   ]
  },
  {
   "cell_type": "markdown",
   "metadata": {},
   "source": [
    "<h3 style=\"color:#000080;\"> Login to Steno3D </h3> \n",
    "\n",
    "Before using Steno3D, you need to <a href=\"https://steno3d.com/signup\">sign up for an account</a> to get your own developer API key if you do not have one already. Running the cell below will provide you with instructions for how to obtain and enter your key. \n",
    "\n",
    "The option to `skip_credentials` prevents saving your developer key to the mybinder.org server. When working on your local computer, remove this argument and your key will be saved."
   ]
  },
  {
   "cell_type": "code",
   "execution_count": null,
   "metadata": {
    "collapsed": false
   },
   "outputs": [],
   "source": [
    "steno3d.login(skip_credentials=True)"
   ]
  },
  {
   "cell_type": "markdown",
   "metadata": {},
   "source": [
    "<h3 style=\"color:#000080;\"> Steno3D Surface </h3>\n",
    "\n",
    "In this section we briefly describe the process of drawing surfaces in Steno3D before making the actual example. The way that Steno3D works is to first create a mesh and then bind the data to the mesh. The mesh defines the geometry of the surface. So the first step to create surfaces is to make a 2D mesh. In Steno3D, there are two types of meshes available for surfaces:\n",
    "\n",
    "<ul>\n",
    "    <li><b>Surface Mesh2D</b> (surfaces with triangulated structure)</li>\n",
    "    <li><b>Surface Mesh2DGrid</b> (surfaces with gridded structure)</li>\n",
    "</ul>\n",
    "\n",
    "In this example we are using `Mesh2DGrid` since we are dealing with a structured DEM grid. For more information on `Mesh2D` see the other <a href=\"./tutorial_surface_triangle.ipynb\">surface tutorial</a>.\n",
    "\n",
    "Surface `Mesh2DGrid`, consists of x and y grid spacing with origin vector (O) corresponding to the lower-left corner of the grid. This type of mesh is normally used for structured surfaces such as mathematical surfaces which can be plotted as Z=f(X,Y). A simple diagram of `Mesh2DGrid` is depicted in Figure 2: <b>h1</b> and <b>h2</b> are arrays containing the width of each consecutive cell in the <b>U</b> and <b>V</b> directions, respectively. <b>Z</b> is an array of vertex topography, where values are perpendicular offset distances from the U-V plane. <b>Z</b> should be defined a flat array, with each entry corresponding to the z-offset of a single vertex. It is stored in row-major (C-style) order (more info on <a href=\"https://en.wikipedia.org/wiki/Row-major_order\">row-major order</a>). For instance, the row-major order for `Mesh2DGrid` in Figure 2 would be stored as:\n",
    "\n",
    "<p>[x0y0, x1y0, x2y0, x3y0, x4y0, x5y0, x0y1, x1y1 ...... x4y4, x5y4]</p>\n",
    "\n",
    "<img src=\"images/mesh2dgrid.png\" width=400 height=200 align=middle>\n",
    "<div style=\"width: 30%; margin: auto; font-weight: bold; font-style: italic; font-size: 15px; margin-bottom: 5%; margin-top: 3%\"> Figure 2: Surface Mesh2DGrid </div>\n",
    "\n",
    "The next step is to bind the data to the surface. To do this we simply use a dictionary containing the data `location` (nodes/vertices 'N' or cell centers/faces 'CC') and the `DataArray`. When binding the data to a surface with `Mesh2DGrid` we need to specify data order. In Steno3D, this is stored in row major (C-style) by default, but column-major ordering (Fortran-style) is also available (<a href=\"https://python.steno3d.com/en/latest/content/api/resources/data.html#resources-data\">DataArray documentation</a>). An important thing to keep in mind when binding the data to the surface is to convert the data into a flattened array using numpy's flatten( ) function. For example, as a n x m array, you need to flatten it into a (nm) x 1 array. Depending in which order you are going to flatten your data, you use either flatten(order='C') or flatten(order='F').\n",
    "\n",
    "Another feature for Steno3D surfaces is that we can map an image to a surface mesh. We refer to the images projected on a surface as `textures`. Unlike data, `textures` do not correspond to certain mesh locations but instead are defined using spatial coordinates. In this example, we add a `texture` to the surface. For more information on `textures` please check <a href=\"https://python.steno3d.com/en/latest/content/api/resources/texture.html\">Texture API documentation</a>."
   ]
  },
  {
   "cell_type": "markdown",
   "metadata": {},
   "source": [
    "<h3 style=\"color:#000080;\"> Create a Project </h3>\n",
    "\n",
    "Before making any resources (points, lines, surfaces or volumes) in Steno3D, we need to create a `Project` to assign the resource to that project. Projects organize all your resources together and can contain a combination of resources; they can also be viewed and shared in Steno3D. \n",
    "\n",
    "Following are the properties of projects that you can modify if desired:\n",
    "\n",
    "<ul>\n",
    "    <li><b>title</b>: Title of the project</li>\n",
    "    <li><b>description</b>: Description of the project</li>\n",
    "    <li><b>public</b>: If True, the project is viewable by anyone online. If False, the project is private and only viewable by people you choose to share it with. Free and Academic accounts have limits on the number of private projects allowed; if you would like more, upgrade your account at steno3d.com.</li>\n",
    "    <li><b>resources</b>: List of resources the project contains.</li>\n",
    "</ul>\n",
    "\n",
    "You can <a href=\"https://steno3d.com/explore\">explore public projects on steno3d.com.</a> Additional <a href=\"https://python.steno3d.com/en/latest/content/api/projects.html\">API documentation</a> is available online."
   ]
  },
  {
   "cell_type": "code",
   "execution_count": null,
   "metadata": {
    "collapsed": false
   },
   "outputs": [],
   "source": [
    "topography_proj = steno3d.Project(\n",
    "    title='Topography',\n",
    "    description='Digital Elevation Model (DEM)',\n",
    "    public=False\n",
    ")"
   ]
  },
  {
   "cell_type": "markdown",
   "metadata": {},
   "source": [
    "<h3 style=\"color:#000080;\"> Topography Data </h3>\n",
    "\n",
    "In this section we are reading the topography data. The raw data are saved in JSON format which can be downloaded through the steno3d.examples.Topography module. This module downloads the data files and save it to a folder in the home directory (or another location you may specify). "
   ]
  },
  {
   "cell_type": "code",
   "execution_count": null,
   "metadata": {
    "collapsed": true
   },
   "outputs": [],
   "source": [
    "from steno3d.examples import Topography\n",
    "Topography.fetch_data(verbose=False)  # To specify a different data directory than the\n",
    "                                      # default '$HOME/.steno3d_python_assets/' use\n",
    "                                      # keyword argument `directory='/path/to/your/directory/'`"
   ]
  },
  {
   "cell_type": "code",
   "execution_count": null,
   "metadata": {
    "collapsed": false
   },
   "outputs": [],
   "source": [
    "with open(Topography.gridfile, 'r') as f:\n",
    "    topo = json.load(f)"
   ]
  },
  {
   "cell_type": "markdown",
   "metadata": {
    "collapsed": true
   },
   "source": [
    "<h3 style=\"color:#000080;\"> Surface Mesh2DGrid </h3>\n",
    "\n",
    "Now it is time to create a `Mesh2DGrid`. Following are the properties of `Mesh2DGrid`:\n",
    "\n",
    "<ul>\n",
    "    <li><b>h1</b> and <b> h2 </b>(required)<sup><b>*</b></sup>: X and Y grid spacing</li>\n",
    "    <li><b>O</b>: origin vector corresponding to the lower-left corner of the grid</li>\n",
    "    <li><b>Z</b>: mesh vertex topography (perpendicular vector to the surface), in C-style, row-major order </li>\n",
    "    <li><b>opts</b>: The only available option is `wireframe`, set to `True` or `False` with a dictionary </li>\n",
    "    <li><b>title</b></li>\n",
    "    <li><b>description</b></li>\n",
    "</ul>\n",
    "\n",
    "(*): For the Surface resource to pass validation prior to upload, required properties must be set.\n",
    "\n",
    "Mesh2DGrid API documentation is available within the <a href=\"https://python.steno3d.com/en/latest/content/api/resources/surface.html#meshes\">surface documentation</a>."
   ]
  },
  {
   "cell_type": "code",
   "execution_count": null,
   "metadata": {
    "collapsed": false
   },
   "outputs": [],
   "source": [
    "topography_mesh=steno3d.Mesh2DGrid(\n",
    "    h1=np.diff(topo['x']),   \n",
    "    h2=np.diff(topo['y']),\n",
    "    O=[topo['x'][0], topo['y'][0], 0],\n",
    "    Z=topo['z']\n",
    ")"
   ]
  },
  {
   "cell_type": "markdown",
   "metadata": {},
   "source": [
    "<h3 style=\"color:#000080;\"> Create Surface </h3>\n",
    " \n",
    "The following are surface properties in Steno3D:\n",
    "\n",
    "<ul>\n",
    "    <li><b>project</b> (required): The project(s) that contain the resource</li>\n",
    "    <li><b>mesh</b> (required): Surfaces may use `Mesh2D` or `Mesh2DGrid`</li>\n",
    "    <li><b>data</b>: A list of `DataArrays` bound to the mesh </li>\n",
    "    <li><b>textures</b>: A list of `Texture2DImages` </li>\n",
    "    <li><b>opts</b>: A dictionary of options </li>\n",
    "    <li><b>title</b></li>\n",
    "    <li><b>description</b></li>\n",
    "</ul>\n",
    "\n",
    "Additional <a href=\"https://python.steno3d.com/en/latest/content/api/resources/surface.html\">API documentation</a> is available online."
   ]
  },
  {
   "cell_type": "code",
   "execution_count": null,
   "metadata": {
    "collapsed": false
   },
   "outputs": [],
   "source": [
    "topography_surface = steno3d.Surface(     \n",
    "    project=topography_proj,\n",
    "    title='DEM Surface',\n",
    "    mesh=topography_mesh,\n",
    "    opts=dict(opacity=1)\n",
    ")"
   ]
  },
  {
   "cell_type": "markdown",
   "metadata": {},
   "source": [
    "<h3 style=\"color:#000080;\"> Binding Surface Data </h3>\n",
    "\n",
    "Now that we have surface mesh, we can bind the data to it. To do this, we need a `DataArray` which contains:\n",
    "\n",
    "<ul>\n",
    "    <li><b>array</b> (required): 1D-array of data</li>\n",
    "    <li><b>order</b>: Either 'c', C-style row-major ordering (default), or 'f', Fortran-style column-major ordering. This only applies when the data is bound to a Mesh2DGrid</li>\n",
    "    <li><b>title</b></li>\n",
    "    <li><b>description</b></li>\n",
    "</ul>\n",
    "\n",
    "\n",
    "Now we need to bind 1D `DataArray` to our surface with a dictionary containing:\n",
    "\n",
    "<ul>\n",
    "<li><b>location</b> (required): For surfaces, this is 'N' (nodes or vertices) or 'CC' (cell centers or faces/triangles)</li>\n",
    "<li><b>data</b> (required): the DataArray</li>\n",
    "</ul>\n",
    "\n",
    "Also, more than one data set can be bound to a surface by using a list of these dictionaries. \n",
    "\n",
    "For a surface using `Mesh2DGrid`, the order of the data is decided based on order, either 'c' for C-style row-major ordering or 'f' for Fortran-style column-major ordering as it has been described in <b>Steno3D Surface</b> section of this document.\n",
    "\n",
    "More information on binding data to a surface is available <a href=\"https://python.steno3d.com/en/latest/content/api/resources/surface.html#data\">online</a>."
   ]
  },
  {
   "cell_type": "code",
   "execution_count": null,
   "metadata": {
    "collapsed": false
   },
   "outputs": [],
   "source": [
    "topography_data = steno3d.DataArray(\n",
    "    title='Topography',\n",
    "    array=topo['z']\n",
    ")\n",
    "\n",
    "topography_surface.data = [\n",
    "    dict(\n",
    "        location='N',\n",
    "        data=topography_data\n",
    "    )    \n",
    "]"
   ]
  },
  {
   "cell_type": "markdown",
   "metadata": {},
   "source": [
    "<h3 style=\"color:#000080;\"> Surface Textures </h3>\n",
    "\n",
    "We can add textures to surfaces or points in Steno3D. Textures contain:\n",
    "\n",
    "<ul>\n",
    "    <li><b>image</b> (required)</li>\n",
    "    <li><b>O</b> (required): the origin vector - this sets the lower-left corner of the image in space </li>\n",
    "    <li><b>U</b> and <b>V</b> (required): the axes vectors - these determine the length and the direction of the sides of the image relative to O</li>\n",
    "</ul>\n",
    "\n",
    "More information on how to map an image to a point or surface resource is available on <a href=\"https://python.steno3d.com/en/latest/content/api/resources/texture.html\">Texture</a>."
   ]
  },
  {
   "cell_type": "code",
   "execution_count": null,
   "metadata": {
    "collapsed": false
   },
   "outputs": [],
   "source": [
    "my_tex = steno3d.Texture2DImage(\n",
    "    image= Topography.topo_image,\n",
    "    O=[443200.0, 491750.0, 0.0],\n",
    "    U=[4425.0, 0.0, 0.0],\n",
    "    V=[0.0, 3690.0, 0.0],\n",
    ")\n",
    "    \n",
    "topography_surface.textures = my_tex"
   ]
  },
  {
   "cell_type": "markdown",
   "metadata": {},
   "source": [
    "<h3 style=\"color:#000080;\"> Upload and Plot </h3>\n",
    "\n",
    "Calling `upload` will check that all aspects of surface and its containing project are built correctly, then upload the project to <a href=\"https://steno3d.com\">steno3d.com</a>."
   ]
  },
  {
   "cell_type": "code",
   "execution_count": null,
   "metadata": {
    "collapsed": false
   },
   "outputs": [],
   "source": [
    "topography_proj.upload()"
   ]
  },
  {
   "cell_type": "code",
   "execution_count": null,
   "metadata": {
    "collapsed": false
   },
   "outputs": [],
   "source": [
    "topography_surface.plot()"
   ]
  }
 ],
 "metadata": {
  "kernelspec": {
   "display_name": "Python 2",
   "language": "python",
   "name": "python2"
  },
  "language_info": {
   "codemirror_mode": {
    "name": "ipython",
    "version": 2
   },
   "file_extension": ".py",
   "mimetype": "text/x-python",
   "name": "python",
   "nbconvert_exporter": "python",
   "pygments_lexer": "ipython2",
   "version": "2.7.12"
  }
 },
 "nbformat": 4,
 "nbformat_minor": 0
}
