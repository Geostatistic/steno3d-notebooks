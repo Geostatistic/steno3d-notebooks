{
 "cells": [
  {
   "cell_type": "markdown",
   "metadata": {},
   "source": [
    "<img src=\"images/steno3d.png\" width=\"200\"></img>\n",
    "<br>\n",
    "<h1 style=\"color:#000080;\"> Surface Example: Rocket Engine </h1> \n",
    "\n",
    "\n",
    "<p> This example shows a <a href=\"https://en.wikipedia.org/wiki/Rocketdyne_F-1\"><b>F-1 Rocket Engine</b></a> model <a href =\"http://www.blendswap.com/blends/view/41852\">(by blendswap user Hlynkacg)</a> which was used in the <a href=\"https://en.wikipedia.org/wiki/Saturn_V\"><b>Saturn V</b></a> rocket as the primary launch vehicle in Apollo program. In this document we will create a surface mesh in Steno3D to visualize the rocket engine as 3D surface.</p>\n",
    "\n",
    "<div>\n",
    "    <figure>\n",
    "    <div style=\"height:400px;\">\n",
    "    <img src=\"images/engine2.png\" style=\"float:left;width:30%\";>\n",
    "    <img src=\"images/engine1.png\" style=\"float:right;width:60%\";>\n",
    "    </div>\n",
    "    <figcaption align=\"middle\"><div style=\"width: 40%; margin-top: 10%; margin-left: auto; margin-right: auto; font-weight: bold; font-style: italic; font-size: 15px; margin-bottom: 3%\"> Figure 1: Visualization of F-1 Rocket Engine in Steno3D </div></figcaption>\n",
    "    </figure>\n",
    "    \n",
    "</div>\n"
   ]
  },
  {
   "cell_type": "markdown",
   "metadata": {},
   "source": [
    "<h3 style=\"color:#000080;\"> Import Dependencies </h3> "
   ]
  },
  {
   "cell_type": "code",
   "execution_count": null,
   "metadata": {
    "collapsed": true
   },
   "outputs": [],
   "source": [
    "import numpy as np\n",
    "import steno3d"
   ]
  },
  {
   "cell_type": "markdown",
   "metadata": {},
   "source": [
    "<h3 style=\"color:#000080;\"> Login to Steno3D </h3> \n",
    "\n",
    "Before using Steno3D, you need to <a href=\"https://steno3d.com/signup\">sign up for an account</a> to get your own developer API key if you do not have one already. Running the cell below will provide you with instructions for how to obtain and enter your key. \n",
    "\n",
    "The option to `skip_credentials` prevents saving your developer key to the mybinder.org server. When working on your local computer, remove this argument and your key will be saved."
   ]
  },
  {
   "cell_type": "code",
   "execution_count": null,
   "metadata": {
    "collapsed": false
   },
   "outputs": [],
   "source": [
    "steno3d.login(skip_credentials=True) "
   ]
  },
  {
   "cell_type": "markdown",
   "metadata": {
    "collapsed": true
   },
   "source": [
    "<h3 style=\"color:#000080;\"> Steno3D Surface </h3>\n",
    "\n",
    "In this section we briefly describe the process of drawing surfaces in Steno3D before making the actual example. The way that Steno3D works is to first create a mesh and then bind the data to the mesh. The mesh defines the geometry of the surface. So the first step to create surfaces is to make a 2D mesh. In Steno3D, there are two types of meshes available for surfaces:\n",
    "\n",
    "<ul>\n",
    "    <li><b>Surface Mesh2D</b> (surfaces with triangulated structure)</li>\n",
    "    <li><b>Surface Mesh2DGrid</b> (surfaces with gridded structure)</li>\n",
    "</ul>\n",
    "\n",
    "In this example we are using `Mesh2D` since we are dealing with a triangulated surfaces. For more information on `Mesh2DGrid` see the other <a href=\"./tutorial_surface_grid.ipynb\">surface tutorial</a>.\n",
    "\n",
    "Surface Mesh2D is formed by vertices and triangles which define how the vertices are connected (More information on <a href=\"https://en.wikipedia.org/wiki/Triangle_mesh\">Triangle Mesh</a> is available online). A simple example of a surface Mesh2D is depicted in Figure 2. \n",
    "\n",
    "<figure>\n",
    "    <img src=\"images/mesh2d.png\" width=600 height=200 align=middle>\n",
    "    <figcaption align=\"middle\"><div style=\"width: 30%; margin: auto; font-weight: bold; font-style: italic; font-size: 15px; margin-bottom: 5%\"> Figure 2: Surface Mesh2D </div> </figcaption>\n",
    "</figure>\n",
    "\n",
    "As shown in this figure, vertices are 3D (x, y, z) points and triangles consists of three integers (indices) defining which vertices make up the triangle. The two triangles in Figure 2 meeting at two vertices B and C.\n",
    "In `Mesh2D`, the vertices must always be a n x 3 array of spatial coordinates while triangles must be an array of m x 3 which holds vertex indices defining each triangle.\n",
    "\n",
    "The next step after creating the mesh is to bind the data to the mesh. In this example we do not bind the data to the surface, but for more information on how to bind data to a surface other <a href=\"./tutorial_surface_grid.ipynb\">surface tutorial</a>."
   ]
  },
  {
   "cell_type": "markdown",
   "metadata": {
    "collapsed": true
   },
   "source": [
    "<h3 style=\"color:#191970;\"> Create a Project </h3>\n",
    "\n",
    "Before making any resources (points, lines, surfaces or volumes) in Steno3D, we need to create a `Project` to assign the resource to that project. Projects organize all your resources together and can contain a combination of resources; they can also be viewed and shared in Steno3D. \n",
    "\n",
    "Following are the properties of projects that you can modify if desired:\n",
    "\n",
    "<ul>\n",
    "    <li><b>title</b>: Title of the project</li>\n",
    "    <li><b>description</b>: Description of the project</li>\n",
    "    <li><b>public</b>: If True, the project is viewable by anyone online. If False, the project is private and only viewable by people you choose to share it with. Free and Academic accounts have limits on the number of private projects allowed; if you would like more, upgrade your account at steno3d.com.</li>\n",
    "    <li><b>resources</b>: List of resources the project contains.</li>\n",
    "</ul>\n",
    "\n",
    "You can <a href=\"https://steno3d.com/explore\">explore public projects on steno3d.com.</a> Additional <a href=\"https://python.steno3d.com/en/latest/content/api/projects.html\">API documentation</a> is available online."
   ]
  },
  {
   "cell_type": "code",
   "execution_count": null,
   "metadata": {
    "collapsed": false
   },
   "outputs": [],
   "source": [
    "jet_engine_proj = steno3d.Project(\n",
    "    title='F-1 Rocket Engine (Hlynkacg model)', \n",
    "    description='Rocket Engine used in the Saturn V',\n",
    "    public=False\n",
    ")"
   ]
  },
  {
   "cell_type": "markdown",
   "metadata": {},
   "source": [
    "<h3 style=\"color:#000080;\"> Surface Mesh 2D </h3>\n",
    "\n",
    "<p>Now it is time to create a surface mesh. In Steno3D mesh defines the geometry of the 3D object. For this example we need to use `Mesh2D` since we have an arbitary topology which is not defined by a regular grid. `Mesh2D` consist of `triangles` and `vertices` as previously described. This mesh have the following properties:</p> \n",
    "\n",
    "\n",
    "<ul>\n",
    "    <li><b>vertices</b> (required)<sup><b>*</b></sup>: n x 3 array of spatial coordinates</li>\n",
    "    <li><b>triangles</b> (required): m x 2 array of vertex indices connecting each triangular face</li>\n",
    "    <li><b>opts</b>: The only available option is `wireframe`, set to `True` or `False` with a dictionary</li>\n",
    "    <li><b>title</b></li>\n",
    "    <li><b>description</b></li>\n",
    "</ul>\n",
    "\n",
    "(*): For the Surface resource to pass validation prior to upload, required properties must be set.\n",
    "\n",
    "To construct the mesh for jet engine example, we will be using mesh components from the steno3d.examples. Rocket_Engine module. This module downloads the numpy files containing vertices and triangles arrays, save it to a folder in the home directory (or another location you may specify).\n",
    "\n",
    "Mesh2D API documentation is available within the <a href=\"https://python.steno3d.com/en/latest/content/api/resources/surface.html#meshes\">surface documentation</a>."
   ]
  },
  {
   "cell_type": "code",
   "execution_count": null,
   "metadata": {
    "collapsed": true
   },
   "outputs": [],
   "source": [
    "from steno3d.examples import Rocket\n",
    "Rocket.fetch_data(verbose= False)  # To specify a different data directory than the\n",
    "                                   # default '$HOME/.steno3d_python_assets/' use\n",
    "                                   # keyword argument `directory='/path/to/your/directory/'`"
   ]
  },
  {
   "cell_type": "markdown",
   "metadata": {},
   "source": [
    "The Rocket Engine consists of several surfaces where each surface has its own mesh. This means we have several meshes to deal with in this example. The best approach would be to iterate over vertices and triangles for each mesh and assign it to the corresponding surface. In the next section we describe how to make a surface in Steno3D and then we can create each mesh and apply it to a surface."
   ]
  },
  {
   "cell_type": "markdown",
   "metadata": {},
   "source": [
    "<h3 style=\"color:#000080;\"> Create Surface </h3>\n",
    " \n",
    "The following are surface properties in Steno3D:\n",
    "\n",
    "<ul>\n",
    "    <li><b>project</b> (required): The project(s) that contain the resource</li>\n",
    "    <li><b>mesh</b> (required): Surfaces may use `Mesh2D` or `Mesh2DGrid`</li>\n",
    "    <li><b>data</b>: A list of `DataArrays` bound to the mesh </li>\n",
    "    <li><b>textures</b>: A list of `Texture2DImages` </li>\n",
    "    <li><b>opts</b>: A dictionary of options </li>\n",
    "    <li><b>title</b></li>\n",
    "    <li><b>description</b></li>\n",
    "</ul>\n",
    "\n",
    "Additional <a href=\"https://python.steno3d.com/en/latest/content/api/resources/surface.html\">API documentation</a> is available online."
   ]
  },
  {
   "cell_type": "markdown",
   "metadata": {},
   "source": [
    "The below cell shows how to iterate over vertices and triangles for each mesh and assigning the mesh to a surface.\n",
    "\n",
    "To make the mesh display its wire frame, `wireframe=True` should be specified in mesh option. We can also set the <a href=\"https://python.steno3d.com/en/latest/content/api/resources/surface.html\">options</a> for the surface. This includes color and opacity. "
   ]
  },
  {
   "cell_type": "code",
   "execution_count": null,
   "metadata": {
    "collapsed": false
   },
   "outputs": [],
   "source": [
    "verts = np.load(Rocket.vertices)\n",
    "tris = np.load(Rocket.triangles)\n",
    "\n",
    "for idx in tris.files:\n",
    "    engine_mesh = steno3d.Mesh2D(\n",
    "        vertices=verts[idx], \n",
    "        triangles=tris[idx],\n",
    "        opts=dict(wireframe=False)\n",
    "    )\n",
    "    engine_surface = steno3d.Surface(\n",
    "        project=jet_engine_proj,\n",
    "        title='Rocket Engine Surface: {}'.format(idx),\n",
    "        mesh=engine_mesh,\n",
    "        opts=dict(opacity=1)\n",
    "    )"
   ]
  },
  {
   "cell_type": "markdown",
   "metadata": {},
   "source": [
    "<h3 style=\"color:#000080;\"> Upload and Plot </h3>\n",
    "\n",
    "Calling `upload` will check that all aspects of surface and its containing project are built correctly, then upload the project to <a href=\"https://steno3d.com\">steno3d.com</a>."
   ]
  },
  {
   "cell_type": "code",
   "execution_count": null,
   "metadata": {
    "collapsed": false
   },
   "outputs": [],
   "source": [
    "jet_engine_proj.upload()"
   ]
  },
  {
   "cell_type": "markdown",
   "metadata": {},
   "source": [
    "Once the project is uploaded, you can view it at the link provided or you can plot the individual line inline here with `plot`."
   ]
  },
  {
   "cell_type": "code",
   "execution_count": null,
   "metadata": {
    "collapsed": false
   },
   "outputs": [],
   "source": [
    "jet_engine_proj.plot()"
   ]
  }
 ],
 "metadata": {
  "kernelspec": {
   "display_name": "Python 2",
   "language": "python",
   "name": "python2"
  },
  "language_info": {
   "codemirror_mode": {
    "name": "ipython",
    "version": 2
   },
   "file_extension": ".py",
   "mimetype": "text/x-python",
   "name": "python",
   "nbconvert_exporter": "python",
   "pygments_lexer": "ipython2",
   "version": "2.7.12"
  }
 },
 "nbformat": 4,
 "nbformat_minor": 0
}
